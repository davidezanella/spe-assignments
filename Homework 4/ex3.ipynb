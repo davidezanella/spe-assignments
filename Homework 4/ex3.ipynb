{
 "cells": [
  {
   "cell_type": "code",
   "execution_count": 2,
   "metadata": {},
   "outputs": [],
   "source": [
    "from random import uniform\n",
    "from math import sqrt\n",
    "from queue import PriorityQueue"
   ]
  },
  {
   "cell_type": "code",
   "execution_count": 10,
   "metadata": {},
   "outputs": [],
   "source": [
    "def euclidean_distance(a, b):\n",
    "    return sqrt((a[0] - b[0])**2 + (a[1] - b[1])**2)"
   ]
  },
  {
   "cell_type": "code",
   "execution_count": 14,
   "metadata": {},
   "outputs": [],
   "source": [
    "class EventHandler:\n",
    "    def __init__(self):\n",
    "        self.events = PriorityQueue()\n",
    "        \n",
    "    def addEvent(self, e):\n",
    "        self.events.put(e)\n",
    "    \n",
    "    def getEvent(self):\n",
    "        return self.events.get()\n",
    "    \n",
    "    def isEmpty(self):\n",
    "        return self.events.empty()"
   ]
  },
  {
   "cell_type": "code",
   "execution_count": 15,
   "metadata": {},
   "outputs": [],
   "source": [
    "class Node:\n",
    "    def __init__(self, maxX, maxY, minS, maxS):\n",
    "        self.maxX = maxX\n",
    "        self.maxY = maxY\n",
    "        self.maxS = maxS\n",
    "        self.minS = minS\n",
    "        self.last_waypoint = -1\n",
    "        self.getNewCoords()\n",
    "        self.getNewWaypoint()\n",
    "        self.getNewSpeed()\n",
    "        \n",
    "    def getNewCoords(self):\n",
    "        self.x = uniform(0, self.maxX)\n",
    "        self.y = uniform(0, self.maxY)\n",
    "        \n",
    "    def getNewWaypoint(self):\n",
    "        self.next_waypoint_x = uniform(0, self.maxX)\n",
    "        self.next_waypoint_y = uniform(0, self.maxY)\n",
    "        \n",
    "    def getNewSpeed(self):\n",
    "        self.speed = uniform(minS, maxS)\n",
    "        \n",
    "    def getTimeNeeded(self):\n",
    "        d = euclidean_distance((self.x, self.y), (self.next_waypoint_x, self.next_waypoint_y))\n",
    "        return d / self.speed\n",
    "    \n",
    "    def arrived(self):\n",
    "        self.x = self.next_waypoint_x\n",
    "        self.y = self.next_waypoint_y\n",
    "        getNewWaypoint()\n",
    "        getNewSpeed()"
   ]
  },
  {
   "cell_type": "code",
   "execution_count": 18,
   "metadata": {},
   "outputs": [],
   "source": [
    "class Simulation:\n",
    "    def __init__(self, N, maxX, maxY, minS, maxS):\n",
    "        self.events = EventHandler()\n",
    "        self.N = N\n",
    "        self.maxX = maxX\n",
    "        self.maxY = maxY\n",
    "        self.maxS = maxS\n",
    "        self.minS = minS\n",
    "        self.nodes = []\n",
    "        self.events.addEvent((0, \"init\", -1))\n",
    "        \n",
    "    def initEvent(self):\n",
    "        for n in range(self.N):\n",
    "            self.nodes.append(Node(self.maxX, self.maxY, self.maxS, self.minS))\n",
    "            self.events.addEvent((self.nodes[n].getTimeNeeded(), \"waypoint_reached\", n))\n",
    "                              \n",
    "    def measure_speed(self):\n",
    "        s = 0\n",
    "        for node in self.nodes:\n",
    "            s += node.speed\n",
    "        return s / self.N\n",
    "    \n",
    "    def waypoint_reached(self, i):\n",
    "        self.nodes[i].arrived()\n",
    "        self.events.addEvent((self.nodes[i].getTimeNeeded(), \"waypoint_reached\", i))\n",
    "        \n",
    "    def simulate(self):\n",
    "        # infinite loop?\n",
    "        t = 0\n",
    "        while not self.events.isEmpty():\n",
    "            event_time, event_type, event_node = self.events.getEvent()\n",
    "            if event_type == 'measure_speed':\n",
    "                avg_speed = measure_speed()\n",
    "            elif event_type == 'init':\n",
    "                initEvent()\n",
    "            else:\n",
    "                waypoint_reached(event_node)\n",
    "            \n",
    "            t = event_time"
   ]
  }
 ],
 "metadata": {
  "kernelspec": {
   "display_name": "Python 3",
   "language": "python",
   "name": "python3"
  },
  "language_info": {
   "codemirror_mode": {
    "name": "ipython",
    "version": 3
   },
   "file_extension": ".py",
   "mimetype": "text/x-python",
   "name": "python",
   "nbconvert_exporter": "python",
   "pygments_lexer": "ipython3",
   "version": "3.7.6"
  }
 },
 "nbformat": 4,
 "nbformat_minor": 2
}
