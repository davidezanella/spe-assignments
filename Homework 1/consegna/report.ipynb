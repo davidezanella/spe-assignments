{
 "cells": [
  {
   "cell_type": "markdown",
   "metadata": {
    "colab_type": "text",
    "id": "pLO3ueYsmH6A"
   },
   "source": [
    "# Simulation and Performance Evaluation - Homework 1\n",
    "\n",
    "### University of Trento - A.Y. 2019 / 2020\n",
    "\n",
    "Lotito Quintino Francesco - 215032\n",
    "\n",
    "Zanella Davide - 211463\n",
    "\n",
    "---"
   ]
  },
  {
   "cell_type": "markdown",
   "metadata": {},
   "source": [
    "**Important:** we expect the datasets to be in the same directory of this notebook."
   ]
  },
  {
   "cell_type": "markdown",
   "metadata": {
    "colab_type": "text",
    "id": "sFKcR8iAmNRJ"
   },
   "source": [
    "## Exercise 1"
   ]
  },
  {
   "cell_type": "markdown",
   "metadata": {
    "colab_type": "text",
    "id": "nF3heP8_pPob"
   },
   "source": [
    "### Problem statement"
   ]
  },
  {
   "cell_type": "markdown",
   "metadata": {
    "colab_type": "text",
    "id": "4rVhUnV-l6x7"
   },
   "source": [
    "Load the iid data samples from the CSV file `data_ex1.csv` and provide:\n",
    "1. the median and a 95% confidence interval for the median\n",
    "2. the mean, a 95% and a 99% confidence interval for the mean\n",
    "\n",
    "Explain which formulas you used and why."
   ]
  },
  {
   "cell_type": "markdown",
   "metadata": {
    "colab_type": "text",
    "id": "c4E26DOvpZ5s"
   },
   "source": [
    "### Solution"
   ]
  },
  {
   "cell_type": "markdown",
   "metadata": {
    "colab_type": "text",
    "id": "XeuRHOtJpgi-"
   },
   "source": [
    "Firstly, we need to load the data from `data_ex1.csv`. We also sort the input data, which will be useful later.\n"
   ]
  },
  {
   "cell_type": "code",
   "execution_count": 1,
   "metadata": {
    "colab": {},
    "colab_type": "code",
    "id": "ES5BNQqtqe3r"
   },
   "outputs": [],
   "source": [
    "def load():\n",
    "    file = open(\"data_ex1.csv\", \"r\")\n",
    "    data = [float(x) for x in file.readlines()]\n",
    "    return data"
   ]
  },
  {
   "cell_type": "code",
   "execution_count": 2,
   "metadata": {},
   "outputs": [
    {
     "name": "stdout",
     "output_type": "stream",
     "text": [
      "Number of samples loaded:  1000\n"
     ]
    }
   ],
   "source": [
    "data = sorted(load())\n",
    "print(\"Number of samples loaded: \", len(data))"
   ]
  },
  {
   "cell_type": "markdown",
   "metadata": {},
   "source": [
    "In this figure we can visualize the distribution of the data loaded from the given dataset."
   ]
  },
  {
   "cell_type": "code",
   "execution_count": 3,
   "metadata": {},
   "outputs": [
    {
     "data": {
      "image/png": "[encoded data removed]",
      "text/plain": [
       "<Figure size 432x288 with 1 Axes>"
      ]
     },
     "metadata": {
      "needs_background": "light"
     },
     "output_type": "display_data"
    }
   ],
   "source": [
    "%matplotlib inline\n",
    "import matplotlib.pyplot as plt\n",
    "\n",
    "plt.hist(data, bins=80, color = 'red', edgecolor = 'black')\n",
    "plt.title('Data distribution')\n",
    "plt.show()"
   ]
  },
  {
   "cell_type": "markdown",
   "metadata": {},
   "source": [
    "We are asked to compute the median of the input data, the median is the value separating the higher half from the lower half of a data sample. \n",
    "\n",
    "The median is computed by the function `compute_median` which takes the list of values as a parameter and returns the median of the data. \n",
    "\n",
    "Let $L$ be the sorted input list and $n = |L|$. Since the list is sorted, if $n$ is odd the median is $L_{\\frac{n+1}{2}}$, if $n$ is even the median is the arithmetic mean of $L_{\\frac{n}{2}}$ and $L_{\\frac{n+1}{2}}$.\n",
    "\n",
    "In our case, the cardinality of the input data is 1000, so it is even."
   ]
  },
  {
   "cell_type": "code",
   "execution_count": 4,
   "metadata": {},
   "outputs": [],
   "source": [
    "def compute_median(values):\n",
    "    # we need to sort the values\n",
    "    values = list(sorted(values)) \n",
    "    n = len(values)\n",
    "    if(n % 2 != 0):\n",
    "        # odd case\n",
    "        idx = int((n+1) / 2)\n",
    "        return values[idx]\n",
    "    else:\n",
    "        # even case\n",
    "        idx = int(n/2)\n",
    "        return (values[idx] + values[idx + 1]) / 2"
   ]
  },
  {
   "cell_type": "code",
   "execution_count": 5,
   "metadata": {},
   "outputs": [],
   "source": [
    "median = compute_median(data)"
   ]
  },
  {
   "cell_type": "code",
   "execution_count": 6,
   "metadata": {},
   "outputs": [
    {
     "name": "stdout",
     "output_type": "stream",
     "text": [
      "Median:  0.4034808006202\n"
     ]
    }
   ],
   "source": [
    "print(\"Median: \", median)"
   ]
  },
  {
   "cell_type": "markdown",
   "metadata": {},
   "source": [
    "Here we load some standard math functions which will be useful later."
   ]
  },
  {
   "cell_type": "code",
   "execution_count": 7,
   "metadata": {},
   "outputs": [],
   "source": [
    "from math import floor, ceil, sqrt"
   ]
  },
  {
   "cell_type": "markdown",
   "metadata": {},
   "source": [
    "Now we are asked to compute a 95% confidence interval for the median. This interval is constructed from the observed data such that, with at least 95% probability, the true population value of the median falls in it. Since the input data is iid and ordered, we can rely on Theorem 2.1 from the slides of the lecture \"Lesson on statistical summaries, confidence/prediction intervals, and the iid assumption\" and compute lower and upper bounds of the requested confidence interval. \n",
    "\n",
    "We will use the same notation of the slides, meaning $j$ is the lower bound and $k$ is the upper bound of the confidence interval."
   ]
  },
  {
   "cell_type": "code",
   "execution_count": 8,
   "metadata": {},
   "outputs": [],
   "source": [
    "# compute j, k for confidence level 95%\n",
    "def get_j_k(values):\n",
    "    n = len(values)\n",
    "    j_idx = floor(0.5 * n - 0.98 * sqrt(n))\n",
    "    k_idx = ceil(0.5 * n + 1 + 0.98 * sqrt(n))\n",
    "    return j_idx, k_idx"
   ]
  },
  {
   "cell_type": "code",
   "execution_count": 9,
   "metadata": {},
   "outputs": [
    {
     "name": "stdout",
     "output_type": "stream",
     "text": [
      "j: 469\n",
      "k: 532\n"
     ]
    }
   ],
   "source": [
    "j, k = get_j_k(data)\n",
    "print(\"j:\", j)\n",
    "print(\"k:\", k)"
   ]
  },
  {
   "cell_type": "code",
   "execution_count": 10,
   "metadata": {},
   "outputs": [
    {
     "name": "stdout",
     "output_type": "stream",
     "text": [
      "95% confidence interval for the median: [0.384475528575523, 0.417181958327227]\n"
     ]
    }
   ],
   "source": [
    "j_val, k_val = data[j], data[k]\n",
    "print(\"95% confidence interval for the median: [{}, {}]\".format(j_val, k_val))"
   ]
  },
  {
   "cell_type": "markdown",
   "metadata": {},
   "source": [
    "For the next step, we are asked to compute the mean of the observed data and to compute a 95% and a 99% confidence interval for the mean. We define a function `compute_mean` which obviously takes the list of values as a parameter and returns the arithmetic mean of them."
   ]
  },
  {
   "cell_type": "code",
   "execution_count": 11,
   "metadata": {},
   "outputs": [],
   "source": [
    "def compute_mean(values):\n",
    "    tot = 0\n",
    "    for i in values:\n",
    "        tot += i\n",
    "    return tot / len(values)"
   ]
  },
  {
   "cell_type": "code",
   "execution_count": 12,
   "metadata": {},
   "outputs": [
    {
     "name": "stdout",
     "output_type": "stream",
     "text": [
      "Mean: 0.41020458058272363\n"
     ]
    }
   ],
   "source": [
    "mean = compute_mean(data)\n",
    "print(\"Mean:\", mean)"
   ]
  },
  {
   "cell_type": "markdown",
   "metadata": {},
   "source": [
    "We also define a function `compute_std_dev` which takes the list of values as a parameter, computes the mean and returns the standard deviation of the input values. The standard deviation is defined as $\\sigma = \\sqrt{\\frac{1}{n}\\sum_{1}^n (x_i - \\bar{x})^2}$, where $n$ is the dimension of the dataset, $\\bar{x}$ is the mean and $x_i$ is the $i$-th sample."
   ]
  },
  {
   "cell_type": "code",
   "execution_count": 13,
   "metadata": {},
   "outputs": [],
   "source": [
    "def compute_std_dev(values):\n",
    "    mean = compute_mean(values)\n",
    "    tot = 0\n",
    "    for i in values:\n",
    "        tot += (i - mean) ** 2\n",
    "    return sqrt(tot / len(values))"
   ]
  },
  {
   "cell_type": "code",
   "execution_count": 14,
   "metadata": {},
   "outputs": [
    {
     "name": "stdout",
     "output_type": "stream",
     "text": [
      "Standard deviation: 0.18280369403703178\n"
     ]
    }
   ],
   "source": [
    "std_dev = compute_std_dev(data)\n",
    "print(\"Standard deviation:\", std_dev)"
   ]
  },
  {
   "cell_type": "markdown",
   "metadata": {},
   "source": [
    "Finally, here we define the function `mean_interval` which computes the required confidence intervals for the mean. Since the data is iid and the dimension of the dataset is large enough, we can rely on Theorem 2.2 from the slides of the lecture \"Lesson on statistical summaries, confidence/prediction intervals, and the iid assumption\" and compute a 95% confidence interval and a 99% confidence interval for the mean. We used the Gaussian distribution tables to compute the quantiles."
   ]
  },
  {
   "cell_type": "code",
   "execution_count": 15,
   "metadata": {},
   "outputs": [],
   "source": [
    "def mean_interval(data, gamma):\n",
    "    eta = None\n",
    "    if gamma == 0.95:\n",
    "        eta = 1.960\n",
    "    elif gamma == 0.99:\n",
    "        eta = 2.576\n",
    "    else:\n",
    "        # in these excercises we are only interested in 95% and 99% confidence\n",
    "        pass\n",
    "    mean = compute_mean(data)\n",
    "    std_dev = compute_std_dev(data)\n",
    "    incr = eta * std_dev / sqrt(len(data))\n",
    "    return mean - incr, mean + incr"
   ]
  },
  {
   "cell_type": "code",
   "execution_count": 16,
   "metadata": {},
   "outputs": [
    {
     "name": "stdout",
     "output_type": "stream",
     "text": [
      "Confidence interval for mean with gamma 95%: [0.39887429024087223, 0.42153487092457503]\n"
     ]
    }
   ],
   "source": [
    "start, end = mean_interval(data, 0.95)\n",
    "print(\"Confidence interval for mean with gamma 95%: [{}, {}]\".format(start, end))"
   ]
  },
  {
   "cell_type": "code",
   "execution_count": 17,
   "metadata": {},
   "outputs": [
    {
     "name": "stdout",
     "output_type": "stream",
     "text": [
      "Confidence interval for mean with gamma 99%: [0.39531334184771894, 0.42509581931772833]\n"
     ]
    }
   ],
   "source": [
    "start, end = mean_interval(data, 0.99)\n",
    "print(\"Confidence interval for mean with gamma 99%: [{}, {}]\".format(start, end))"
   ]
  },
  {
   "cell_type": "markdown",
   "metadata": {},
   "source": [
    "## Exercise 2"
   ]
  },
  {
   "cell_type": "markdown",
   "metadata": {},
   "source": [
    "### Problem statement"
   ]
  },
  {
   "cell_type": "markdown",
   "metadata": {},
   "source": [
    "Load the data from the CSV file `data_ex2.csv`. This should be a matrix with 6001 rows and 200 columns. All entries are iid.\n",
    "\n",
    "1. Find a 95% confidence interval for the data of the first row.\n",
    "2. Find the mean of all the remaining 6000 rows, and check how many of these means fall inside the confidence interval you computed for the first row. Is this what you expected? Explain."
   ]
  },
  {
   "cell_type": "markdown",
   "metadata": {},
   "source": [
    "### Solution"
   ]
  },
  {
   "cell_type": "markdown",
   "metadata": {},
   "source": [
    "Firstly, we need to load the data from `data_ex2.csv`."
   ]
  },
  {
   "cell_type": "code",
   "execution_count": 74,
   "metadata": {},
   "outputs": [],
   "source": [
    "def load():\n",
    "    file = open(\"data_ex2.csv\", \"r\")\n",
    "    values = [[float(x) for x in line.split(\",\")] for line in file.readlines()]\n",
    "    return values"
   ]
  },
  {
   "cell_type": "code",
   "execution_count": 75,
   "metadata": {},
   "outputs": [
    {
     "name": "stdout",
     "output_type": "stream",
     "text": [
      "Number of values: 6001\n"
     ]
    }
   ],
   "source": [
    "values = load()\n",
    "\n",
    "print(\"Number of values:\", len(values))"
   ]
  },
  {
   "cell_type": "markdown",
   "metadata": {},
   "source": [
    "Now we are asked to focus only on the first row. We rely again on the functions we developed for Exercise 1."
   ]
  },
  {
   "cell_type": "code",
   "execution_count": 76,
   "metadata": {},
   "outputs": [
    {
     "name": "stdout",
     "output_type": "stream",
     "text": [
      "Number of elements in the first row: 200\n"
     ]
    }
   ],
   "source": [
    "first_row = values[0]\n",
    "print(\"Number of elements in the first row:\", len(first_row))"
   ]
  },
  {
   "cell_type": "code",
   "execution_count": 77,
   "metadata": {},
   "outputs": [
    {
     "name": "stdout",
     "output_type": "stream",
     "text": [
      "Mean of the first row: 3.1750482140829686\n"
     ]
    }
   ],
   "source": [
    "mean = compute_mean(first_row)\n",
    "print(\"Mean of the first row:\", mean)"
   ]
  },
  {
   "cell_type": "code",
   "execution_count": 78,
   "metadata": {},
   "outputs": [
    {
     "name": "stdout",
     "output_type": "stream",
     "text": [
      "Standard deviation of the first row: 1.709792005976982\n"
     ]
    }
   ],
   "source": [
    "s = compute_std_dev(first_row)\n",
    "print(\"Standard deviation of the first row:\", s)"
   ]
  },
  {
   "cell_type": "code",
   "execution_count": 79,
   "metadata": {},
   "outputs": [
    {
     "name": "stdout",
     "output_type": "stream",
     "text": [
      "95% confidence interval for the mean of the first row: [2.938083131801373, 3.412013296364564]\n"
     ]
    }
   ],
   "source": [
    "start, end = mean_interval(first_row, 0.95)\n",
    "print(\"95% confidence interval for the mean of the first row: [{}, {}]\".format(start, end))"
   ]
  },
  {
   "cell_type": "markdown",
   "metadata": {},
   "source": [
    "The next step is to find the mean of all the remaining 6000 rows, and count how many of these means fall inside the confidence interval we have just computed."
   ]
  },
  {
   "cell_type": "code",
   "execution_count": 80,
   "metadata": {},
   "outputs": [
    {
     "name": "stdout",
     "output_type": "stream",
     "text": [
      "Number of rows with mean falling in the previous confidence interval: 4009\n",
      "It represents the 66.80553241126479% of the rows\n"
     ]
    }
   ],
   "source": [
    "count = 0\n",
    "for row in values[1:]:\n",
    "    m = compute_mean(row)\n",
    "    if m <= end and m >= start:\n",
    "        count += 1\n",
    "\n",
    "print(\"Number of rows with mean falling in the previous confidence interval:\", count)\n",
    "print(\"It represents the {}% of the rows\".format(count*100/len(values)))"
   ]
  },
  {
   "cell_type": "markdown",
   "metadata": {},
   "source": [
    "At first glance, we thought 95% of the means of the rows would have been fallen in the confidence interval. After some thinking, we realized that this is a misinterpretation of the concept of a confidence interval and that our previous idea was wrong. A good interpretation is that if repeated samples were taken and the 95% confidence interval computed for each sample, 95% of the intervals would contain the population mean. \n",
    "\n",
    "We test the correct interpretation, considering that the mean of the whole dataset is a good estimation of the true mean of the distribution which generated the samples."
   ]
  },
  {
   "cell_type": "code",
   "execution_count": 94,
   "metadata": {},
   "outputs": [
    {
     "name": "stdout",
     "output_type": "stream",
     "text": [
      "Good estimation of the mean of the population: 3.0001034954990686\n"
     ]
    }
   ],
   "source": [
    "M = 0\n",
    "for row in values:\n",
    "    M += compute_mean(row)\n",
    "M /= len(values)\n",
    "print(\"Good estimation of the mean of the population: {}\".format(M))"
   ]
  },
  {
   "cell_type": "markdown",
   "metadata": {},
   "source": [
    "Now we count the number of times this mean fall in the 95% confidence interval of the mean for every row."
   ]
  },
  {
   "cell_type": "code",
   "execution_count": 98,
   "metadata": {},
   "outputs": [
    {
     "name": "stdout",
     "output_type": "stream",
     "text": [
      "Result: 5702\n",
      "Which is the 95.01749708381936 %\n"
     ]
    }
   ],
   "source": [
    "c = 0\n",
    "for row in values:\n",
    "    a,b = mean_interval(row, 0.95)\n",
    "    if M <= b and M >= a:\n",
    "        c+=1\n",
    "print(\"Result: {}\".format(c))\n",
    "print(\"Which is the {} %\".format(c*100/len(values)))"
   ]
  },
  {
   "cell_type": "markdown",
   "metadata": {},
   "source": [
    "We want to study the distribution of the means of the rows.\n",
    "In the figure below, we depicted this distribution and coloured in blue the means falling in the confidence interval and in red the ones not falling in it."
   ]
  },
  {
   "cell_type": "code",
   "execution_count": 81,
   "metadata": {},
   "outputs": [
    {
     "data": {
      "image/png": "[encoded data removed]",
      "text/plain": [
       "<Figure size 432x288 with 1 Axes>"
      ]
     },
     "metadata": {
      "needs_background": "light"
     },
     "output_type": "display_data"
    }
   ],
   "source": [
    "%matplotlib inline\n",
    "import matplotlib.pyplot as plt \n",
    "\n",
    "mean_values = [compute_mean(x) for x in values]\n",
    "\n",
    "N, bins, patches = plt.hist(mean_values, bins=100, color = 'red', edgecolor = 'black')\n",
    "\n",
    "\n",
    "for i in range(len(patches)):\n",
    "    if bins[i] <= end and bins[i] >= start:\n",
    "        patches[i].set_facecolor('b')\n",
    "    else:\n",
    "        patches[i].set_facecolor('r')\n",
    "        \n",
    "\n",
    "plt.title('Distribution of the means of the rows') \n",
    "\n",
    "plt.show() "
   ]
  },
  {
   "cell_type": "markdown",
   "metadata": {},
   "source": [
    "Of course, it turned out the red part is much more than just 5%, as opposed to what our first idea suggested."
   ]
  },
  {
   "cell_type": "markdown",
   "metadata": {},
   "source": [
    "## Exercise 3"
   ]
  },
  {
   "cell_type": "markdown",
   "metadata": {},
   "source": [
    "### Problem statement"
   ]
  },
  {
   "cell_type": "markdown",
   "metadata": {},
   "source": [
    "Load the data from the CSV file `data_ex3.csv`.\n",
    "\n",
    "1. Compute the CoV for the data, Jain’s fairness index and the Lorenz curve gap\n",
    "2. Plot the Lorenz curve; discuss the correspondence with the values of the previous point, and the difference between the values of the Lorenz curve gap and of Jain’s fairness index.\n",
    "3. Implement the bootstrap algorithm seen in class and use it to compute 95% and 99% confidence intervals for:    \n",
    "    (a) the Lorenz curve gap;    \n",
    "    (b) Jain’s fairness index;    \n",
    "    (c) the mean of the data;    \n",
    "    (d) the standard deviation of the data,\n",
    "    \n",
    "4. Compare the obtained confidence interval for the mean with the one obtained via the asymptotic formulas. Discuss.\n"
   ]
  },
  {
   "cell_type": "markdown",
   "metadata": {},
   "source": [
    "### Solution"
   ]
  },
  {
   "cell_type": "markdown",
   "metadata": {},
   "source": [
    "Firstly, we need to load the data from `data_ex3.csv`."
   ]
  },
  {
   "cell_type": "code",
   "execution_count": 26,
   "metadata": {},
   "outputs": [],
   "source": [
    "def load():\n",
    "    file = open(\"data_ex3.csv\", \"r\")\n",
    "    values = [float(x) for x in file.readlines()]\n",
    "    return values"
   ]
  },
  {
   "cell_type": "code",
   "execution_count": 27,
   "metadata": {},
   "outputs": [
    {
     "name": "stdout",
     "output_type": "stream",
     "text": [
      "Number of values: 500\n"
     ]
    }
   ],
   "source": [
    "values = load()\n",
    "print(\"Number of values:\", len(values))"
   ]
  },
  {
   "cell_type": "code",
   "execution_count": 28,
   "metadata": {},
   "outputs": [
    {
     "name": "stdout",
     "output_type": "stream",
     "text": [
      "Mean: 4.084097581606038\n"
     ]
    }
   ],
   "source": [
    "m = compute_mean(values)\n",
    "print(\"Mean:\", m)"
   ]
  },
  {
   "cell_type": "code",
   "execution_count": 29,
   "metadata": {},
   "outputs": [
    {
     "name": "stdout",
     "output_type": "stream",
     "text": [
      "Standard deviation: 4.086005532648478\n"
     ]
    }
   ],
   "source": [
    "s = compute_std_dev(values)\n",
    "print(\"Standard deviation:\", s)"
   ]
  },
  {
   "cell_type": "markdown",
   "metadata": {},
   "source": [
    "The Coefficient of Variation summarizes the variation of data around the mean.\n",
    "It's computed by $CoV = \\frac{s}{m}$. The Coefficient of Variation is bounded by 0 and $\\sqrt{n - 1}$."
   ]
  },
  {
   "cell_type": "code",
   "execution_count": 30,
   "metadata": {},
   "outputs": [],
   "source": [
    "def compute_cov(values):\n",
    "    return compute_mean(values) / compute_std_dev(values)"
   ]
  },
  {
   "cell_type": "code",
   "execution_count": 31,
   "metadata": {},
   "outputs": [
    {
     "name": "stdout",
     "output_type": "stream",
     "text": [
      "CoV: 0.9995330522616293\n"
     ]
    }
   ],
   "source": [
    "cov = compute_cov(values)\n",
    "print(\"CoV:\", cov)"
   ]
  },
  {
   "cell_type": "markdown",
   "metadata": {},
   "source": [
    "We obtained a Coefficient of Variation of about $0.995$ over a maximum of $\\sqrt{500 - 1} \\approx 22.34$. Since this value is pretty low compared to the upper bound, the level of dispersion around the mean is low too.\n",
    "\n",
    "Usually, the Coefficient of Variation allows us to compare distributions of values whose scales of measurement are not comparable, but in our case, we don't have other datasets to compare it with.\n",
    "***"
   ]
  },
  {
   "cell_type": "markdown",
   "metadata": {},
   "source": [
    "The Jain’s fairness index can be computed as $\\text{JFI} = \\frac{1}{1 + CoV^2}$.\n",
    "\n",
    "It's equal to 1 when all the values of the dataset are equal and $\\frac{1}{n}$ when we have the maximum unfairness in the data."
   ]
  },
  {
   "cell_type": "code",
   "execution_count": 32,
   "metadata": {},
   "outputs": [],
   "source": [
    "def compute_jfi(values):\n",
    "    cov = compute_cov(values)\n",
    "    return 1 / (1 + cov ** 2)"
   ]
  },
  {
   "cell_type": "code",
   "execution_count": 33,
   "metadata": {},
   "outputs": [
    {
     "name": "stdout",
     "output_type": "stream",
     "text": [
      "Jain’s fairness index: 0.5002335283792271\n",
      "Maximum possible unfairness of the dataset: 0.002\n"
     ]
    }
   ],
   "source": [
    "jfi = compute_jfi(values)\n",
    "print(\"Jain’s fairness index:\", jfi)\n",
    "print(\"Maximum possible unfairness of the dataset:\", 1/len(values))"
   ]
  },
  {
   "cell_type": "markdown",
   "metadata": {},
   "source": [
    "The Jain’s fairness index obtained is in the middle between the maximum unfairness value of the dataset ($0.002$) and the bound of the total fairness of the dataset ($1$).\n",
    "It tells us that the dataset has some variance.\n",
    "***"
   ]
  },
  {
   "cell_type": "markdown",
   "metadata": {},
   "source": [
    "The Lorenz Curve Gap is computed by $\\frac{\\frac{1}{n}\\sum_{i=1}^{n}\\mid x_i - m \\mid}{2m}$. As the nominator, there is the Mean Absolute Deviation.\n",
    "\n",
    "The Lorenz Curve Gap is bounded by 0 and $1 - \\frac{1}{n}$."
   ]
  },
  {
   "cell_type": "code",
   "execution_count": 34,
   "metadata": {},
   "outputs": [],
   "source": [
    "def compute_lorenz_cg(values):\n",
    "    mean = compute_mean(values)\n",
    "    tot = 0\n",
    "    for i in values:\n",
    "        tot += abs(i - mean)\n",
    "\n",
    "    mad = tot / len(values)\n",
    "    return mad / (2 * mean)"
   ]
  },
  {
   "cell_type": "code",
   "execution_count": 35,
   "metadata": {},
   "outputs": [
    {
     "name": "stdout",
     "output_type": "stream",
     "text": [
      "Lorenz Curve Gap: 0.36230444707595716\n"
     ]
    }
   ],
   "source": [
    "lorenz_gap = compute_lorenz_cg(values)\n",
    "print(\"Lorenz Curve Gap:\", lorenz_gap)"
   ]
  },
  {
   "cell_type": "markdown",
   "metadata": {},
   "source": [
    "In this case, the Lorenz Curve Gap is bounded by 0 and 0.999.\n",
    "\n",
    "The higher the gap, the higher the variance of the data."
   ]
  },
  {
   "cell_type": "code",
   "execution_count": 36,
   "metadata": {},
   "outputs": [],
   "source": [
    "def lorenz_curve(values):\n",
    "    x = []\n",
    "    y = []\n",
    "\n",
    "    mean = compute_mean(values)\n",
    "    values = sorted(values)\n",
    "    n = len(values)\n",
    "    tot = 0\n",
    "    for i in range(len(values)):\n",
    "        x.append((i + 1) / n)\n",
    "        tot += values[i]\n",
    "        y.append(tot / (n * mean))\n",
    "\n",
    "    return x, y"
   ]
  },
  {
   "cell_type": "markdown",
   "metadata": {},
   "source": [
    "The Lorenz Curve shows how much the data are far from the ideal fairness of the data."
   ]
  },
  {
   "cell_type": "code",
   "execution_count": 37,
   "metadata": {},
   "outputs": [
    {
     "data": {
      "image/png": "[encoded data removed]",
      "text/plain": [
       "<Figure size 432x288 with 1 Axes>"
      ]
     },
     "metadata": {
      "needs_background": "light"
     },
     "output_type": "display_data"
    }
   ],
   "source": [
    "%matplotlib inline\n",
    "import matplotlib.pyplot as plt \n",
    "\n",
    "from math import sin, cos, radians\n",
    "\n",
    "\n",
    "x = y = [0, 1 - 1/len(values)]\n",
    "plt.plot(x, y, label='Maximum fairness') \n",
    "\n",
    "x, y = lorenz_curve(values)\n",
    "plt.plot(x, y, label='Lorenz Curve')\n",
    "\n",
    "\n",
    "dist = lorenz_gap * cos(radians(45))\n",
    "dist = dist * cos(radians(45))\n",
    "\n",
    "\n",
    "lc_x = [0.5, 0.5 + dist]\n",
    "lc_y = [0.5, 0.5 - dist]\n",
    "plt.plot(lc_x, lc_y)\n",
    "\n",
    "lcg_x = [0.5 + dist, 0.5 + dist]\n",
    "lcg_y = [0.5 - dist, 0.5 + dist]\n",
    "plt.plot(lcg_x, lcg_y, linestyle='dashed', label='Lorenz Curve Gap')\n",
    "\n",
    "plt.axis('equal')\n",
    "plt.title('Lorenz curve') \n",
    "plt.legend()\n",
    "\n",
    "plt.show() "
   ]
  },
  {
   "cell_type": "markdown",
   "metadata": {},
   "source": [
    "The blue line is the maximum fairness that the data could have, while the orange one is the Lorenz Curve.\n",
    "\n",
    "The Lorenz Curve Gap is the dashed line in red.\n",
    "\n",
    "***\n",
    "Jaine's Fairness index stated that the distribution has some variance, 0.5 over 1, while the Lorenz Curve Gap stated that the data has not a high variation, only 0.36 over a maximum of 0.999.\n",
    "\n",
    "As can be seen in the following graph, the dataset has some moderate variance and we should trust the Lorenz Curve Gap index which usually behaves better than the CoV and the Jaine's Fairness index, which is calculated using it."
   ]
  },
  {
   "cell_type": "code",
   "execution_count": 38,
   "metadata": {},
   "outputs": [
    {
     "data": {
      "image/png": "[encoded data removed]",
      "text/plain": [
       "<Figure size 432x288 with 1 Axes>"
      ]
     },
     "metadata": {
      "needs_background": "light"
     },
     "output_type": "display_data"
    }
   ],
   "source": [
    "%matplotlib inline\n",
    "import matplotlib.pyplot as plt\n",
    "\n",
    "plt.hist(values, bins=100, color = 'red', edgecolor = 'black')\n",
    "plt.title('Data distribution')\n",
    "plt.show()"
   ]
  },
  {
   "cell_type": "markdown",
   "metadata": {},
   "source": [
    "***"
   ]
  },
  {
   "cell_type": "markdown",
   "metadata": {},
   "source": [
    "Now we have to use the bootstrap algorithm, so, firstly, we decide a value for the r0 variable, which will, later on, decide the number of iterations, so the precision of the bootstrap.\n",
    "\n",
    "We choose 25 to avoid too much computation."
   ]
  },
  {
   "cell_type": "code",
   "execution_count": 39,
   "metadata": {},
   "outputs": [],
   "source": [
    "r0 = 25"
   ]
  },
  {
   "cell_type": "markdown",
   "metadata": {},
   "source": [
    "With the bootstrap method, we use the empirical distribution in place of the theoretical (unknown) distribution. \n",
    "\n",
    "Basically, we calculate the desired metric on a new dataset created by randomly selecting, with repetitions, N elements from the original dataset.\n",
    "This process is repeated in order to obtain a good estimation of the confidence interval.\n",
    "\n",
    "Because of the random, every time we recompute the same bootstrap for a metric, we obtain a slightly different confidence interval."
   ]
  },
  {
   "cell_type": "code",
   "execution_count": 40,
   "metadata": {},
   "outputs": [],
   "source": [
    "import random as rnd\n",
    "\n",
    "def bootstrap(values, r0, gamma, t_func):\n",
    "    R = ceil(2 * r0 / (1 - gamma)) - 1\n",
    "    n = len(values)\n",
    "    T = []\n",
    "    for r in range(R):\n",
    "        samples = []\n",
    "        for _ in range(n):\n",
    "            idx = rnd.randrange(0, n)\n",
    "            samples.append(values[idx])\n",
    "        stat = t_func(samples)\n",
    "        T.append(stat)\n",
    "    T = sorted(T)\n",
    "    return T[r0], T[R + 1 - r0]"
   ]
  },
  {
   "cell_type": "markdown",
   "metadata": {},
   "source": [
    "Now we can use the `bootstrap` function to compute the metrics required passing the specific function of the metric as a parameter."
   ]
  },
  {
   "cell_type": "code",
   "execution_count": 41,
   "metadata": {},
   "outputs": [
    {
     "name": "stdout",
     "output_type": "stream",
     "text": [
      "Bootstrap of Lorenz curve gap 95%: [0.3405020909101584, 0.3839761564300443]\n",
      "Bootstrap of Lorenz curve gap 99%: [0.3329870301296831, 0.3913963282023191]\n"
     ]
    }
   ],
   "source": [
    "fn = lambda a: compute_lorenz_cg(a)\n",
    "\n",
    "start, end = bootstrap(values, r0, 0.95, fn)\n",
    "print(\"Bootstrap of Lorenz curve gap 95%: [{}, {}]\".format(start, end))\n",
    "\n",
    "start, end = bootstrap(values, r0, 0.99, fn)\n",
    "print(\"Bootstrap of Lorenz curve gap 99%: [{}, {}]\".format(start, end))"
   ]
  },
  {
   "cell_type": "code",
   "execution_count": 42,
   "metadata": {},
   "outputs": [
    {
     "name": "stdout",
     "output_type": "stream",
     "text": [
      "Bootstrap of Jain’s fairness index 95%: [0.4553599446192381, 0.5446881207933232]\n",
      "Bootstrap of Jain’s fairness index 99%: [0.44090173635849383, 0.5562889054271916]\n"
     ]
    }
   ],
   "source": [
    "fn = lambda a: compute_jfi(a)\n",
    "\n",
    "start, end = bootstrap(values, r0, 0.95, fn)\n",
    "print(\"Bootstrap of Jain’s fairness index 95%: [{}, {}]\".format(start, end))\n",
    "\n",
    "start, end = bootstrap(values, r0, 0.99, fn)\n",
    "print(\"Bootstrap of Jain’s fairness index 99%: [{}, {}]\".format(start, end))"
   ]
  },
  {
   "cell_type": "code",
   "execution_count": 43,
   "metadata": {},
   "outputs": [
    {
     "name": "stdout",
     "output_type": "stream",
     "text": [
      "Bootstrap of Mean 95%: [3.7284070782587606, 4.495491130648942]\n",
      "Bootstrap of Mean 99%: [3.6268753619559297, 4.583161699281643]\n"
     ]
    }
   ],
   "source": [
    "fn = lambda a: compute_mean(a)\n",
    "\n",
    "b_m_s_95, b_m_e_95 = bootstrap(values, r0, 0.95, fn)\n",
    "print(\"Bootstrap of Mean 95%: [{}, {}]\".format(b_m_s_95, b_m_e_95))\n",
    "\n",
    "b_m_s_99, b_m_e_99 = bootstrap(values, r0, 0.99, fn)\n",
    "print(\"Bootstrap of Mean 99%: [{}, {}]\".format(b_m_s_99, b_m_e_99))"
   ]
  },
  {
   "cell_type": "code",
   "execution_count": 44,
   "metadata": {},
   "outputs": [
    {
     "name": "stdout",
     "output_type": "stream",
     "text": [
      "Bootstrap of Standard deviation 95%: [3.565289969406559, 4.576097942870374]\n",
      "Bootstrap of Standard deviation 99%: [3.4280519695023495, 4.821180439915406]\n"
     ]
    }
   ],
   "source": [
    "fn = lambda a: compute_std_dev(a)\n",
    "\n",
    "start, end = bootstrap(values, r0, 0.95, fn)\n",
    "print(\"Bootstrap of Standard deviation 95%: [{}, {}]\".format(start, end))\n",
    "\n",
    "start, end = bootstrap(values, r0, 0.99, fn)\n",
    "print(\"Bootstrap of Standard deviation 99%: [{}, {}]\".format(start, end))"
   ]
  },
  {
   "cell_type": "code",
   "execution_count": 45,
   "metadata": {},
   "outputs": [
    {
     "name": "stdout",
     "output_type": "stream",
     "text": [
      "Confidence interval for mean with gamma 95%: [3.7259434054103022, 4.442251757801773]\n",
      "Confidence interval for mean with gamma 99%: [3.613380664320214, 4.5548144988918615]\n"
     ]
    }
   ],
   "source": [
    "m_s_95, m_e_95 = mean_interval(values, 0.95)\n",
    "print(\"Confidence interval for mean with gamma 95%: [{}, {}]\".format(m_s_95, m_e_95))\n",
    "\n",
    "m_s_99, m_e_99 = mean_interval(values, 0.99)\n",
    "print(\"Confidence interval for mean with gamma 99%: [{}, {}]\".format(m_s_99, m_e_99))"
   ]
  },
  {
   "cell_type": "markdown",
   "metadata": {},
   "source": [
    "As shown in the following graph the Confidence Intervals for the mean obtained from the Bootstrap algorithm and the Asymptotic method are pretty similar. This means that the **asymptotic assumption** is **valid**."
   ]
  },
  {
   "cell_type": "code",
   "execution_count": 46,
   "metadata": {},
   "outputs": [
    {
     "data": {
      "image/png": "[encoded data removed]",
      "text/plain": [
       "<Figure size 432x288 with 1 Axes>"
      ]
     },
     "metadata": {
      "needs_background": "light"
     },
     "output_type": "display_data"
    }
   ],
   "source": [
    "%matplotlib inline\n",
    "import matplotlib.pyplot as plt \n",
    "\n",
    "b_m_y = [b_m_s_95, b_m_e_95]\n",
    "b_m_x = [1, 1]\n",
    "plt.plot(b_m_x, b_m_y, label='CI - Bootstrap mean 95%')\n",
    "\n",
    "m_y = [m_s_95, m_e_95]\n",
    "m_x = [1.1, 1.1]\n",
    "plt.plot(m_x, m_y, label='CI - Asymptotic mean 95%')\n",
    "\n",
    "\n",
    "b_m_y = [b_m_s_99, b_m_e_99]\n",
    "b_m_x = [1.5, 1.5]\n",
    "plt.plot(b_m_x, b_m_y, label='CI - Bootstrap mean 99%')\n",
    "\n",
    "m_y = [m_s_99, m_e_99]\n",
    "m_x = [1.6, 1.6]\n",
    "plt.plot(m_x, m_y, label='CI - Asymptotic mean 99%')\n",
    "\n",
    "\n",
    "plt.ylim(3, 5)\n",
    "plt.xlim(0.5, 2)\n",
    "plt.legend()\n",
    "plt.title('CI Bootstrap mean vs Asymptotic mean') \n",
    "\n",
    "plt.show() "
   ]
  },
  {
   "cell_type": "markdown",
   "metadata": {},
   "source": [
    "## Exercise 4"
   ]
  },
  {
   "cell_type": "markdown",
   "metadata": {},
   "source": [
    "### Problem statement"
   ]
  },
  {
   "cell_type": "markdown",
   "metadata": {},
   "source": [
    "Load the data from the CSV file `data_ex4.csv`.\n",
    "\n",
    "1. Give a 95% and a 99% confidence interval for the mean using the bootstrap method.\n",
    "2. Compare the results against the value obtained from the asymptotic formulas. Explain.\n",
    "3. Transform the data using a log transformation and give the a confidence interval for the transformed mean."
   ]
  },
  {
   "cell_type": "markdown",
   "metadata": {},
   "source": [
    "### Solution"
   ]
  },
  {
   "cell_type": "markdown",
   "metadata": {},
   "source": [
    "Firstly, we need to load the data from `data_ex4.csv`."
   ]
  },
  {
   "cell_type": "code",
   "execution_count": 100,
   "metadata": {},
   "outputs": [],
   "source": [
    "def load():\n",
    "    file = open(\"data_ex4.csv\", \"r\")\n",
    "    values = [float(x) for x in file.readlines()]\n",
    "    return values"
   ]
  },
  {
   "cell_type": "code",
   "execution_count": 105,
   "metadata": {},
   "outputs": [
    {
     "name": "stdout",
     "output_type": "stream",
     "text": [
      "Number of samples: 500\n"
     ]
    }
   ],
   "source": [
    "values = load()\n",
    "print(\"Number of samples:\", len(values))"
   ]
  },
  {
   "cell_type": "code",
   "execution_count": 102,
   "metadata": {},
   "outputs": [
    {
     "name": "stdout",
     "output_type": "stream",
     "text": [
      "Mean: 4193.326330220401\n"
     ]
    }
   ],
   "source": [
    "m = compute_mean(values)\n",
    "print(\"Mean:\", m)"
   ]
  },
  {
   "cell_type": "code",
   "execution_count": 103,
   "metadata": {},
   "outputs": [
    {
     "name": "stdout",
     "output_type": "stream",
     "text": [
      "Standard deviation: 84564.22566364624\n"
     ]
    }
   ],
   "source": [
    "s = compute_std_dev(values)\n",
    "print(\"Standard deviation:\", s)"
   ]
  },
  {
   "cell_type": "code",
   "execution_count": 104,
   "metadata": {},
   "outputs": [
    {
     "data": {
      "image/png": "[encoded data removed]",
      "text/plain": [
       "<Figure size 432x288 with 1 Axes>"
      ]
     },
     "metadata": {
      "needs_background": "light"
     },
     "output_type": "display_data"
    }
   ],
   "source": [
    "%matplotlib inline\n",
    "import matplotlib.pyplot as plt \n",
    "\n",
    "plt.hist(values, bins=50, color = 'blue', edgecolor = 'black')\n",
    "plt.title('Data distibution') \n",
    "plt.show() "
   ]
  },
  {
   "cell_type": "markdown",
   "metadata": {},
   "source": [
    "As in the previous exercise, we set the r0 parameter to 25 in order to obtain a good balance between computation and precision."
   ]
  },
  {
   "cell_type": "code",
   "execution_count": 52,
   "metadata": {},
   "outputs": [],
   "source": [
    "r0 = 25"
   ]
  },
  {
   "cell_type": "code",
   "execution_count": 53,
   "metadata": {},
   "outputs": [
    {
     "name": "stdout",
     "output_type": "stream",
     "text": [
      "Bootstrap of Mean 95%: [94.35133314782729, 12113.938871016539]\n",
      "Bootstrap of Mean 99%: [57.415347111308265, 15839.662483630083]\n"
     ]
    }
   ],
   "source": [
    "fn = lambda a: compute_mean(a)\n",
    "\n",
    "start, end = bootstrap(values, r0, 0.95, fn)\n",
    "print(\"Bootstrap of Mean 95%: [{}, {}]\".format(start, end))\n",
    "\n",
    "start, end = bootstrap(values, r0, 0.99, fn)\n",
    "print(\"Bootstrap of Mean 99%: [{}, {}]\".format(start, end))"
   ]
  },
  {
   "cell_type": "code",
   "execution_count": 54,
   "metadata": {},
   "outputs": [
    {
     "name": "stdout",
     "output_type": "stream",
     "text": [
      "Confidence interval for mean with gamma 95%: [-3219.0548660825725, 11605.707526523376]\n",
      "Confidence interval for mean with gamma 99%: [-5548.660384920649, 13935.313045361452]\n"
     ]
    }
   ],
   "source": [
    "start, end = mean_interval(values, 0.95)\n",
    "print(\"Confidence interval for mean with gamma 95%: [{}, {}]\".format(start, end))\n",
    "\n",
    "start, end = mean_interval(values, 0.99)\n",
    "print(\"Confidence interval for mean with gamma 99%: [{}, {}]\".format(start, end))"
   ]
  },
  {
   "cell_type": "markdown",
   "metadata": {},
   "source": [
    "The Confidence Intervals of the mean obtained using the Bootstrap algorithm and with the Asymptotic method are completely different. However, looking at the distribution plot, they are both too large. Even if the majority of the values are close to the zero, we have obtained two Confidence Intervals with the bounds orders of magnitude higher. One of the two CI neither contains the majority of the values.\n",
    "\n",
    "Consider the mean, it is too big and far from the majority of the values. This problem is caused by the outliers: almost all the values are small with few really big samples that are much bigger than the others. Outliers can have a big impact on the confidence interval. This is not surprising since we use the mean and standard deviation to compute the confidence interval.\n",
    "***"
   ]
  },
  {
   "cell_type": "markdown",
   "metadata": {},
   "source": [
    "Now can be created a new dataset composed of the logarithm of the original values.\n",
    "\n",
    "The mean and the standard deviation are then computed on the new dataset."
   ]
  },
  {
   "cell_type": "code",
   "execution_count": 55,
   "metadata": {},
   "outputs": [],
   "source": [
    "from math import log, exp\n",
    "\n",
    "log_values = [log(x) for x in values]\n",
    "\n",
    "log_mean = compute_mean(log_values)\n",
    "log_std = compute_std_dev(log_values)"
   ]
  },
  {
   "cell_type": "markdown",
   "metadata": {},
   "source": [
    "Calling the exponential function over the mean and standard deviation previously computed gives values more precise and correct than the previous ones."
   ]
  },
  {
   "cell_type": "code",
   "execution_count": 56,
   "metadata": {},
   "outputs": [
    {
     "name": "stdout",
     "output_type": "stream",
     "text": [
      "Transformation mean: 2.272258276241015\n"
     ]
    }
   ],
   "source": [
    "trans_mean = exp(log_mean)\n",
    "print(\"Transformation mean:\", trans_mean)"
   ]
  },
  {
   "cell_type": "code",
   "execution_count": 57,
   "metadata": {},
   "outputs": [
    {
     "name": "stdout",
     "output_type": "stream",
     "text": [
      "Transformation standard deviation: 13.497052033074423\n"
     ]
    }
   ],
   "source": [
    "trans_std = exp(log_std)\n",
    "print(\"Transformation standard deviation:\", trans_std)"
   ]
  },
  {
   "cell_type": "markdown",
   "metadata": {},
   "source": [
    "Now we can compute the confidence interval using the Asymptotic method and the result is really precise.\n",
    "Plotting the logarithmic dataset it can be seen that the distribution doesn't have outliers with high values, and so the metrics are computed in a better way.\n",
    "\n",
    "The logarithmic transformation gives less importance to the outliers reducing the distance between the values. In this way, the mean and the standard deviation are computed over a more compact and uniform dataset."
   ]
  },
  {
   "cell_type": "code",
   "execution_count": 58,
   "metadata": {},
   "outputs": [
    {
     "name": "stdout",
     "output_type": "stream",
     "text": [
      "Confidence interval for transformation mean with gamma 95%: [1.8087889005696096, 2.85448328012177]\n",
      "Confidence interval for transformation mean with gamma 99%: [1.6836493944528799, 3.0666465898166484]\n"
     ]
    }
   ],
   "source": [
    "start, end = mean_interval(log_values, 0.95)\n",
    "start, end = exp(start), exp(end)\n",
    "print(\"Confidence interval for transformation mean with gamma 95%: [{}, {}]\".format(start, end))\n",
    "\n",
    "start, end = mean_interval(log_values, 0.99)\n",
    "start, end = exp(start), exp(end)\n",
    "print(\"Confidence interval for transformation mean with gamma 99%: [{}, {}]\".format(start, end))"
   ]
  },
  {
   "cell_type": "code",
   "execution_count": 59,
   "metadata": {},
   "outputs": [
    {
     "data": {
      "image/png": "[encoded data removed]",
      "text/plain": [
       "<Figure size 432x288 with 1 Axes>"
      ]
     },
     "metadata": {
      "needs_background": "light"
     },
     "output_type": "display_data"
    }
   ],
   "source": [
    "%matplotlib inline\n",
    "import matplotlib.pyplot as plt \n",
    "\n",
    "plt.hist(log_values, bins=50, color = 'red', edgecolor = 'black')\n",
    "plt.title('Log-transformed data distribution') \n",
    "plt.show() "
   ]
  },
  {
   "cell_type": "markdown",
   "metadata": {},
   "source": [
    "## Exercise 5"
   ]
  },
  {
   "cell_type": "markdown",
   "metadata": {},
   "source": [
    "### Problem statement"
   ]
  },
  {
   "cell_type": "markdown",
   "metadata": {},
   "source": [
    "Load the data from the CSV file `data_ex5.csv`. Note that this data represents successes (ones) and insuccesses (zeros) of some experiment.\n",
    "\n",
    "1. Find the probability of success and confidence intervals for it at both a 95% and at a 99% level.\n",
    "2. Consider now only the first 15 data points.  Find a confidence interval for the probability of success. Explain."
   ]
  },
  {
   "cell_type": "markdown",
   "metadata": {},
   "source": [
    "### Solution"
   ]
  },
  {
   "cell_type": "markdown",
   "metadata": {},
   "source": [
    "Firstly, we need to load the data from `data_ex5.csv`."
   ]
  },
  {
   "cell_type": "code",
   "execution_count": 60,
   "metadata": {},
   "outputs": [],
   "source": [
    "def load():\n",
    "    file = open(\"data_ex5.csv\", \"r\")\n",
    "    values = [int(x) for x in file.readlines()[0].split(',')]\n",
    "    return values"
   ]
  },
  {
   "cell_type": "code",
   "execution_count": 61,
   "metadata": {},
   "outputs": [
    {
     "name": "stdout",
     "output_type": "stream",
     "text": [
      "Length of the sequence: 1000\n"
     ]
    }
   ],
   "source": [
    "samples = load()\n",
    "print(\"Length of the sequence:\", len(samples))"
   ]
  },
  {
   "cell_type": "markdown",
   "metadata": {},
   "source": [
    "The dataset is made up of a sequence of zeroes and ones, which is the representation of the outcomes of a repeated experiment. A zero represents a failure, a one represents a success."
   ]
  },
  {
   "cell_type": "code",
   "execution_count": 62,
   "metadata": {},
   "outputs": [],
   "source": [
    "succ = samples.count(1)\n",
    "insucc = samples.count(0)"
   ]
  },
  {
   "cell_type": "code",
   "execution_count": 63,
   "metadata": {},
   "outputs": [
    {
     "name": "stdout",
     "output_type": "stream",
     "text": [
      "Number of successes: 125\n",
      "Number of insuccesses: 875\n"
     ]
    }
   ],
   "source": [
    "print(\"Number of successes: {}\".format(succ))\n",
    "print(\"Number of insuccesses: {}\".format(insucc))"
   ]
  },
  {
   "cell_type": "code",
   "execution_count": 64,
   "metadata": {},
   "outputs": [
    {
     "data": {
      "image/png": "[encoded data removed]",
      "text/plain": [
       "<Figure size 432x288 with 1 Axes>"
      ]
     },
     "metadata": {
      "needs_background": "light"
     },
     "output_type": "display_data"
    }
   ],
   "source": [
    "%matplotlib inline\n",
    "import matplotlib.pyplot as plt \n",
    "\n",
    "plt.hist(samples, bins=2, color = 'blue', edgecolor = 'black')\n",
    "plt.xticks(range(2))\n",
    "plt.title('Histogram successes and insucceses') \n",
    "plt.show() "
   ]
  },
  {
   "cell_type": "markdown",
   "metadata": {},
   "source": [
    "The given sequence is a Bernoulli process: every experiment is a Bernoulli trial with probability of success $p$. We assume the data is iid, so each experiment is independent from the others and all the experiments have the same Bernoulli distribution.\n",
    "\n",
    "We want to estimate the parameters of the distribution of our interest. In this case we have a Bernoulli distribution, which depends only from one parameter: the probability of success $p$. The parameter $p$ is unknown but we have some observed data. We can rely on Maximum Likelihood Estimation and select the estimator $\\hat{p}$ that makes the observed data the most likely. In this case, it is well-known that (by MLE) $\\hat{p}$ = $\\frac{\\sum_{i=1}^{n} X_i}{n}$, where $n$ is the length of the observed sequence of data and $X_i$ is the realization of the random variable associated with the experiment $i$."
   ]
  },
  {
   "cell_type": "code",
   "execution_count": 65,
   "metadata": {},
   "outputs": [
    {
     "name": "stdout",
     "output_type": "stream",
     "text": [
      "Estimation of the probability of success p: 0.125\n"
     ]
    }
   ],
   "source": [
    "p = succ / (succ + insucc)\n",
    "print(\"Estimation of the probability of success p:\", p)"
   ]
  },
  {
   "cell_type": "markdown",
   "metadata": {},
   "source": [
    "For example, now we can also estimate the variance $\\hat{\\sigma}^2 = \\hat{p}(1-\\hat{p})$."
   ]
  },
  {
   "cell_type": "code",
   "execution_count": 66,
   "metadata": {},
   "outputs": [
    {
     "name": "stdout",
     "output_type": "stream",
     "text": [
      "Estimation of the variance:  0.109375\n"
     ]
    }
   ],
   "source": [
    "var = p * (1 - p)\n",
    "print(\"Estimation of the variance: \", var)"
   ]
  },
  {
   "cell_type": "markdown",
   "metadata": {},
   "source": [
    "We are asked to compute the confidence intervals for the probability of success $p$ at both a 95% and at a 99% level. We resort to the `mean_interval` function, introduced in Exercise 1."
   ]
  },
  {
   "cell_type": "code",
   "execution_count": 67,
   "metadata": {},
   "outputs": [
    {
     "name": "stdout",
     "output_type": "stream",
     "text": [
      "95% confidence interval for p: [0.10450182934991514, 0.14549817065008486]\n",
      "99% confidence interval for p: [0.09805954714560276, 0.15194045285439722]\n"
     ]
    }
   ],
   "source": [
    "start, end = mean_interval(samples, 0.95)\n",
    "print(\"95% confidence interval for p: [{}, {}]\".format(start, end))\n",
    "\n",
    "start, end = mean_interval(samples, 0.99)\n",
    "print(\"99% confidence interval for p: [{}, {}]\".format(start, end))"
   ]
  },
  {
   "cell_type": "markdown",
   "metadata": {},
   "source": [
    "For the next step of the exercise, we are asked to consider only the first 15 data points."
   ]
  },
  {
   "cell_type": "code",
   "execution_count": 68,
   "metadata": {},
   "outputs": [],
   "source": [
    "first_15_samples = samples[:15]"
   ]
  },
  {
   "cell_type": "code",
   "execution_count": 69,
   "metadata": {},
   "outputs": [
    {
     "name": "stdout",
     "output_type": "stream",
     "text": [
      "[0, 0, 0, 0, 0, 0, 0, 0, 0, 0, 0, 0, 0, 0, 0]\n"
     ]
    }
   ],
   "source": [
    "print(first_15_samples)"
   ]
  },
  {
   "cell_type": "code",
   "execution_count": 70,
   "metadata": {},
   "outputs": [
    {
     "name": "stdout",
     "output_type": "stream",
     "text": [
      "Number of successes: 0\n",
      "Number of insuccesses: 15\n"
     ]
    }
   ],
   "source": [
    "succ = first_15_samples.count(1)\n",
    "insucc = first_15_samples.count(0)\n",
    "print(\"Number of successes: {}\".format(succ))\n",
    "print(\"Number of insuccesses: {}\".format(insucc))"
   ]
  },
  {
   "cell_type": "markdown",
   "metadata": {},
   "source": [
    "We can repeat again the process of estimating the value of the parameter $p$, but this time considering only this extremely small subset of the original data."
   ]
  },
  {
   "cell_type": "code",
   "execution_count": 71,
   "metadata": {},
   "outputs": [
    {
     "name": "stdout",
     "output_type": "stream",
     "text": [
      "Estimation of the probability of success: 0.0\n"
     ]
    }
   ],
   "source": [
    "p = succ / (succ + insucc)\n",
    "print(\"Estimation of the probability of success:\", p)"
   ]
  },
  {
   "cell_type": "markdown",
   "metadata": {},
   "source": [
    "It is trivial to notice that with less samples we get a less precise estimation of $p$. \n",
    "\n",
    "In particular, in this case, the first 15 observations happen to be only failures. To estimate a confidence interval we need to rely on the Rule of three. \n",
    "\n",
    "The Rule of three states that if a certain event did not occur in a sample with $n$ outcomes, the interval $[0,\\frac{3}{n}]$ is a 95% confidence interval for the rate of occurrences in the population."
   ]
  },
  {
   "cell_type": "code",
   "execution_count": 72,
   "metadata": {},
   "outputs": [
    {
     "name": "stdout",
     "output_type": "stream",
     "text": [
      "95% confidence interval for p with the Rule of three: [0, 0.2]\n"
     ]
    }
   ],
   "source": [
    "print(\"95% confidence interval for p with the Rule of three: [{}, {}]\".format(0, 3 / len(first_15_samples)))"
   ]
  }
 ],
 "metadata": {
  "colab": {
   "name": "Untitled2.ipynb",
   "provenance": []
  },
  "kernelspec": {
   "display_name": "Python 3",
   "language": "python",
   "name": "python3"
  },
  "language_info": {
   "codemirror_mode": {
    "name": "ipython",
    "version": 3
   },
   "file_extension": ".py",
   "mimetype": "text/x-python",
   "name": "python",
   "nbconvert_exporter": "python",
   "pygments_lexer": "ipython3",
   "version": "3.8.2"
  }
 },
 "nbformat": 4,
 "nbformat_minor": 1
}
