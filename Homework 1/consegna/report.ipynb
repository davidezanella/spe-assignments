{
 "cells": [
  {
   "cell_type": "markdown",
   "metadata": {
    "colab_type": "text",
    "id": "pLO3ueYsmH6A"
   },
   "source": [
    "# Simulation and Performance Evaluation - Homework 1\n",
    "\n",
    "### University of Trento - A.Y. 2019 / 2020\n",
    "\n",
    "---\n",
    "Lotito Quintino Francesco - 215032\n",
    "\n",
    "Zanella Davide - 211463\n",
    "\n",
    "---\n",
    "\n",
    "\n"
   ]
  },
  {
   "cell_type": "markdown",
   "metadata": {},
   "source": [
    "**Important:** we expect the datasets to be in the same directory of this notebook."
   ]
  },
  {
   "cell_type": "markdown",
   "metadata": {
    "colab_type": "text",
    "id": "sFKcR8iAmNRJ"
   },
   "source": [
    "## Exercise 1"
   ]
  },
  {
   "cell_type": "markdown",
   "metadata": {
    "colab_type": "text",
    "id": "nF3heP8_pPob"
   },
   "source": [
    "### Problem statement"
   ]
  },
  {
   "cell_type": "markdown",
   "metadata": {
    "colab_type": "text",
    "id": "4rVhUnV-l6x7"
   },
   "source": [
    "Load the iid data samples from the CSV file `data_ex1.csv` and provide:\n",
    "1. the median and a 95% confidence interval for the median\n",
    "2. the mean, a 95% and a 99% confidence interval for the mean Explain which formulas you used and why.\n",
    "\n",
    "Explain which formulas you used and why."
   ]
  },
  {
   "cell_type": "markdown",
   "metadata": {
    "colab_type": "text",
    "id": "c4E26DOvpZ5s"
   },
   "source": [
    "### Solution"
   ]
  },
  {
   "cell_type": "markdown",
   "metadata": {
    "colab_type": "text",
    "id": "XeuRHOtJpgi-"
   },
   "source": [
    "Firstly, we need to load the data from `data_ex1.csv`.\n"
   ]
  },
  {
   "cell_type": "code",
   "execution_count": 1,
   "metadata": {
    "colab": {},
    "colab_type": "code",
    "id": "ES5BNQqtqe3r"
   },
   "outputs": [],
   "source": [
    "def load():\n",
    "    file = open(\"data_ex1.csv\", \"r\")\n",
    "    data = [float(x) for x in file.readlines()]\n",
    "    return data"
   ]
  },
  {
   "cell_type": "code",
   "execution_count": 2,
   "metadata": {},
   "outputs": [
    {
     "name": "stdout",
     "output_type": "stream",
     "text": [
      "Number of samples loaded:  1000\n"
     ]
    }
   ],
   "source": [
    "data = load()\n",
    "print(\"Number of samples loaded: \", len(data))"
   ]
  },
  {
   "cell_type": "code",
   "execution_count": 3,
   "metadata": {},
   "outputs": [],
   "source": [
    "def compute_median(values):\n",
    "    values = list(sorted(values))\n",
    "    n = len(values)\n",
    "    if(n % 2 != 0): # odd\n",
    "        idx = int((n+1) / 2)\n",
    "        return values[idx]\n",
    "    else: # even\n",
    "        idx = int(n/2)\n",
    "        return (values[idx] + values[idx + 1]) / 2"
   ]
  },
  {
   "cell_type": "code",
   "execution_count": 4,
   "metadata": {},
   "outputs": [],
   "source": [
    "median = compute_median(data)"
   ]
  },
  {
   "cell_type": "code",
   "execution_count": 5,
   "metadata": {},
   "outputs": [
    {
     "name": "stdout",
     "output_type": "stream",
     "text": [
      "Median:  0.4034808006202\n"
     ]
    }
   ],
   "source": [
    "print(\"Median: \", median)"
   ]
  },
  {
   "cell_type": "code",
   "execution_count": 6,
   "metadata": {},
   "outputs": [],
   "source": [
    "from math import floor, ceil, sqrt"
   ]
  },
  {
   "cell_type": "code",
   "execution_count": 7,
   "metadata": {},
   "outputs": [],
   "source": [
    "def calc_j_k(values):  # calculate j, k for confidence level 95%\n",
    "    n = len(values)\n",
    "    j_idx = floor(0.5 * n - 0.98 * sqrt(n))\n",
    "    k_idx = ceil(0.5 * n + 1 + 0.98 * sqrt(n))\n",
    "    return j_idx, k_idx"
   ]
  },
  {
   "cell_type": "code",
   "execution_count": 8,
   "metadata": {},
   "outputs": [
    {
     "name": "stdout",
     "output_type": "stream",
     "text": [
      "j: 469  - k: 532\n"
     ]
    }
   ],
   "source": [
    "j, k = calc_j_k(data)\n",
    "print(\"j:\", j, \" - k:\", k)"
   ]
  },
  {
   "cell_type": "code",
   "execution_count": 9,
   "metadata": {},
   "outputs": [
    {
     "name": "stdout",
     "output_type": "stream",
     "text": [
      "95% confidence interval for the median:\n",
      "[ 0.59106344372459 ; 0.444082621512764 ]\n"
     ]
    }
   ],
   "source": [
    "j_val, k_val = data[j], data[k]\n",
    "print(\"95% confidence interval for the median:\")\n",
    "print(\"[\", j_val, \";\", k_val, \"]\")"
   ]
  },
  {
   "cell_type": "code",
   "execution_count": 10,
   "metadata": {},
   "outputs": [],
   "source": [
    "def compute_mean(values):\n",
    "    tot = 0\n",
    "    for i in values:\n",
    "        tot += i\n",
    "    return tot / len(values)"
   ]
  },
  {
   "cell_type": "code",
   "execution_count": 11,
   "metadata": {},
   "outputs": [
    {
     "name": "stdout",
     "output_type": "stream",
     "text": [
      "Mean: 0.41020458058272374\n"
     ]
    }
   ],
   "source": [
    "mean = compute_mean(data)\n",
    "print(\"Mean:\", mean)"
   ]
  },
  {
   "cell_type": "code",
   "execution_count": 12,
   "metadata": {},
   "outputs": [],
   "source": [
    "def compute_std_dev(values):\n",
    "    mean = compute_mean(values)\n",
    "    tot = 0\n",
    "    for i in values:\n",
    "        tot += (i - mean) ** 2\n",
    "    return sqrt(tot / len(values))"
   ]
  },
  {
   "cell_type": "code",
   "execution_count": 13,
   "metadata": {},
   "outputs": [
    {
     "name": "stdout",
     "output_type": "stream",
     "text": [
      "Standard deviation: 0.18280369403703184\n"
     ]
    }
   ],
   "source": [
    "std_dev = compute_std_dev(data)\n",
    "print(\"Standard deviation:\", std_dev)"
   ]
  },
  {
   "cell_type": "code",
   "execution_count": 14,
   "metadata": {},
   "outputs": [],
   "source": [
    "def mean_interval(values, eta):\n",
    "    mean = compute_mean(data)\n",
    "    std_dev = compute_std_dev(data)\n",
    "    incr = eta * std_dev / sqrt(len(values))\n",
    "    return mean - incr, mean + incr"
   ]
  },
  {
   "cell_type": "code",
   "execution_count": 15,
   "metadata": {},
   "outputs": [
    {
     "name": "stdout",
     "output_type": "stream",
     "text": [
      "Confidence interval for mean with gamma 95%: [0.39887429024087234, 0.42153487092457514]\n"
     ]
    }
   ],
   "source": [
    "start, end = mean_interval(data, 1.96)\n",
    "print(\"Confidence interval for mean with gamma 95%: [{}, {}]\".format(start, end))"
   ]
  },
  {
   "cell_type": "code",
   "execution_count": 16,
   "metadata": {},
   "outputs": [
    {
     "name": "stdout",
     "output_type": "stream",
     "text": [
      "Confidence interval for mean with gamma 99%: [0.3952902188062051, 0.4251189423592424]\n"
     ]
    }
   ],
   "source": [
    "start, end = mean_interval(data, 2.58)\n",
    "print(\"Confidence interval for mean with gamma 99%: [{}, {}]\".format(start, end))"
   ]
  },
  {
   "cell_type": "markdown",
   "metadata": {},
   "source": [
    "## Exercise 2"
   ]
  },
  {
   "cell_type": "code",
   "execution_count": null,
   "metadata": {},
   "outputs": [],
   "source": []
  }
 ],
 "metadata": {
  "colab": {
   "name": "Untitled2.ipynb",
   "provenance": []
  },
  "kernelspec": {
   "display_name": "Python 3",
   "language": "python",
   "name": "python3"
  },
  "language_info": {
   "codemirror_mode": {
    "name": "ipython",
    "version": 3
   },
   "file_extension": ".py",
   "mimetype": "text/x-python",
   "name": "python",
   "nbconvert_exporter": "python",
   "pygments_lexer": "ipython3",
   "version": "3.7.6"
  }
 },
 "nbformat": 4,
 "nbformat_minor": 1
}
