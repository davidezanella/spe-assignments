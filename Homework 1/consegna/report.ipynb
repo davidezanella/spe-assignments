{
 "cells": [
  {
   "cell_type": "markdown",
   "metadata": {
    "colab_type": "text",
    "id": "pLO3ueYsmH6A"
   },
   "source": [
    "# Simulation and Performance Evaluation - Homework 1\n",
    "\n",
    "### University of Trento - A.Y. 2019 / 2020\n",
    "\n",
    "---\n",
    "Lotito Quintino Francesco - 215032\n",
    "\n",
    "Zanella Davide - 211463\n",
    "\n",
    "---\n",
    "\n",
    "\n"
   ]
  },
  {
   "cell_type": "markdown",
   "metadata": {},
   "source": [
    "**Important:** we expect the datasets to be in the same directory of this notebook."
   ]
  },
  {
   "cell_type": "markdown",
   "metadata": {
    "colab_type": "text",
    "id": "sFKcR8iAmNRJ"
   },
   "source": [
    "## Exercise 1"
   ]
  },
  {
   "cell_type": "markdown",
   "metadata": {
    "colab_type": "text",
    "id": "nF3heP8_pPob"
   },
   "source": [
    "### Problem statement"
   ]
  },
  {
   "cell_type": "markdown",
   "metadata": {
    "colab_type": "text",
    "id": "4rVhUnV-l6x7"
   },
   "source": [
    "Load the iid data samples from the CSV file `data_ex1.csv` and provide:\n",
    "1. the median and a 95% confidence interval for the median\n",
    "2. the mean, a 95% and a 99% confidence interval for the mean\n",
    "\n",
    "Explain which formulas you used and why."
   ]
  },
  {
   "cell_type": "markdown",
   "metadata": {
    "colab_type": "text",
    "id": "c4E26DOvpZ5s"
   },
   "source": [
    "### Solution"
   ]
  },
  {
   "cell_type": "markdown",
   "metadata": {
    "colab_type": "text",
    "id": "XeuRHOtJpgi-"
   },
   "source": [
    "Firstly, we need to load the data from `data_ex1.csv`.\n"
   ]
  },
  {
   "cell_type": "code",
   "execution_count": 574,
   "metadata": {
    "colab": {},
    "colab_type": "code",
    "id": "ES5BNQqtqe3r"
   },
   "outputs": [],
   "source": [
    "def load():\n",
    "    file = open(\"data_ex1.csv\", \"r\")\n",
    "    data = [float(x) for x in file.readlines()]\n",
    "    return data"
   ]
  },
  {
   "cell_type": "code",
   "execution_count": 575,
   "metadata": {},
   "outputs": [
    {
     "name": "stdout",
     "output_type": "stream",
     "text": [
      "Number of samples loaded:  1000\n"
     ]
    }
   ],
   "source": [
    "data = sorted(load())\n",
    "print(\"Number of samples loaded: \", len(data))"
   ]
  },
  {
   "cell_type": "code",
   "execution_count": 576,
   "metadata": {},
   "outputs": [
    {
     "data": {
      "image/png": "[encoded data removed]",
      "text/plain": [
       "<Figure size 432x288 with 1 Axes>"
      ]
     },
     "metadata": {
      "needs_background": "light"
     },
     "output_type": "display_data"
    }
   ],
   "source": [
    "import matplotlib.pyplot as plt\n",
    "\n",
    "plt.hist(data, bins=80, color = 'red', edgecolor = 'black')\n",
    "\n",
    "plt.title('Data distribution') \n",
    "\n",
    "plt.show() "
   ]
  },
  {
   "cell_type": "code",
   "execution_count": 577,
   "metadata": {},
   "outputs": [],
   "source": [
    "def compute_median(values):\n",
    "    values = list(sorted(values))\n",
    "    n = len(values)\n",
    "    if(n % 2 != 0): # odd\n",
    "        idx = int((n+1) / 2)\n",
    "        return values[idx]\n",
    "    else: # even\n",
    "        idx = int(n/2)\n",
    "        return (values[idx] + values[idx + 1]) / 2"
   ]
  },
  {
   "cell_type": "code",
   "execution_count": 578,
   "metadata": {},
   "outputs": [],
   "source": [
    "median = compute_median(data)"
   ]
  },
  {
   "cell_type": "code",
   "execution_count": 579,
   "metadata": {},
   "outputs": [
    {
     "name": "stdout",
     "output_type": "stream",
     "text": [
      "Median:  0.4034808006202\n"
     ]
    }
   ],
   "source": [
    "print(\"Median: \", median)"
   ]
  },
  {
   "cell_type": "code",
   "execution_count": 580,
   "metadata": {},
   "outputs": [],
   "source": [
    "from math import floor, ceil, sqrt"
   ]
  },
  {
   "cell_type": "code",
   "execution_count": 581,
   "metadata": {},
   "outputs": [],
   "source": [
    "def calc_j_k(values):  # calculate j, k for confidence level 95%\n",
    "    n = len(values)\n",
    "    j_idx = floor(0.5 * n - 0.98 * sqrt(n))\n",
    "    k_idx = ceil(0.5 * n + 1 + 0.98 * sqrt(n))\n",
    "    return j_idx, k_idx"
   ]
  },
  {
   "cell_type": "code",
   "execution_count": 582,
   "metadata": {},
   "outputs": [
    {
     "name": "stdout",
     "output_type": "stream",
     "text": [
      "j: 469  - k: 532\n"
     ]
    }
   ],
   "source": [
    "j, k = calc_j_k(data)\n",
    "print(\"j:\", j, \" - k:\", k)"
   ]
  },
  {
   "cell_type": "code",
   "execution_count": 583,
   "metadata": {},
   "outputs": [
    {
     "name": "stdout",
     "output_type": "stream",
     "text": [
      "95% confidence interval for the median:\n",
      "[ 0.384475528575523 ; 0.417181958327227 ]\n"
     ]
    }
   ],
   "source": [
    "j_val, k_val = data[j], data[k]\n",
    "print(\"95% confidence interval for the median:\")\n",
    "print(\"[\", j_val, \";\", k_val, \"]\")"
   ]
  },
  {
   "cell_type": "code",
   "execution_count": 584,
   "metadata": {},
   "outputs": [],
   "source": [
    "def compute_mean(values):\n",
    "    tot = 0\n",
    "    for i in values:\n",
    "        tot += i\n",
    "    return tot / len(values)"
   ]
  },
  {
   "cell_type": "code",
   "execution_count": 585,
   "metadata": {},
   "outputs": [
    {
     "name": "stdout",
     "output_type": "stream",
     "text": [
      "Mean: 0.41020458058272363\n"
     ]
    }
   ],
   "source": [
    "mean = compute_mean(data)\n",
    "print(\"Mean:\", mean)"
   ]
  },
  {
   "cell_type": "code",
   "execution_count": 586,
   "metadata": {},
   "outputs": [],
   "source": [
    "def compute_std_dev(values):\n",
    "    mean = compute_mean(values)\n",
    "    tot = 0\n",
    "    for i in values:\n",
    "        tot += (i - mean) ** 2\n",
    "    return sqrt(tot / len(values))"
   ]
  },
  {
   "cell_type": "code",
   "execution_count": 587,
   "metadata": {},
   "outputs": [
    {
     "name": "stdout",
     "output_type": "stream",
     "text": [
      "Standard deviation: 0.18280369403703178\n"
     ]
    }
   ],
   "source": [
    "std_dev = compute_std_dev(data)\n",
    "print(\"Standard deviation:\", std_dev)"
   ]
  },
  {
   "cell_type": "code",
   "execution_count": 588,
   "metadata": {},
   "outputs": [],
   "source": [
    "def mean_interval(data, eta):\n",
    "    mean = compute_mean(data)\n",
    "    std_dev = compute_std_dev(data)\n",
    "    incr = eta * std_dev / sqrt(len(data))\n",
    "    return mean - incr, mean + incr"
   ]
  },
  {
   "cell_type": "code",
   "execution_count": 589,
   "metadata": {},
   "outputs": [
    {
     "name": "stdout",
     "output_type": "stream",
     "text": [
      "Confidence interval for mean with gamma 95%: [0.39887429024087223, 0.42153487092457503]\n"
     ]
    }
   ],
   "source": [
    "start, end = mean_interval(data, 1.96)\n",
    "print(\"Confidence interval for mean with gamma 95%: [{}, {}]\".format(start, end))"
   ]
  },
  {
   "cell_type": "code",
   "execution_count": 590,
   "metadata": {},
   "outputs": [
    {
     "name": "stdout",
     "output_type": "stream",
     "text": [
      "Confidence interval for mean with gamma 99%: [0.39529021880620496, 0.4251189423592423]\n"
     ]
    }
   ],
   "source": [
    "start, end = mean_interval(data, 2.58)\n",
    "print(\"Confidence interval for mean with gamma 99%: [{}, {}]\".format(start, end))"
   ]
  },
  {
   "cell_type": "markdown",
   "metadata": {},
   "source": [
    "## Exercise 2"
   ]
  },
  {
   "cell_type": "markdown",
   "metadata": {},
   "source": [
    "### Problem statement"
   ]
  },
  {
   "cell_type": "markdown",
   "metadata": {},
   "source": [
    "Load the data from the CSV filedata_ex2.csv. This should be a matrix with 6001 rows and 200 columns. All entries are iid.\n",
    "\n",
    "1. Find a 95% confidence interval for the data of the first row.\n",
    "2. Find the mean of all the remaining 6000 rows, and check how many of these means fall inside the confidenceinterval you computed for the first row. Is this what you expected? Explain."
   ]
  },
  {
   "cell_type": "markdown",
   "metadata": {},
   "source": [
    "### Solution"
   ]
  },
  {
   "cell_type": "code",
   "execution_count": 591,
   "metadata": {},
   "outputs": [],
   "source": [
    "def load():\n",
    "    file = open(\"data_ex2.csv\", \"r\")\n",
    "    values = [[float(x) for x in line.split(\",\")] for line in file.readlines()]\n",
    "    return values"
   ]
  },
  {
   "cell_type": "code",
   "execution_count": 592,
   "metadata": {},
   "outputs": [
    {
     "name": "stdout",
     "output_type": "stream",
     "text": [
      "Number of values: 6001\n"
     ]
    }
   ],
   "source": [
    "values = load()\n",
    "\n",
    "print(\"Number of values:\", len(values))"
   ]
  },
  {
   "cell_type": "code",
   "execution_count": 593,
   "metadata": {},
   "outputs": [
    {
     "name": "stdout",
     "output_type": "stream",
     "text": [
      "Number of elements in the first row: 200\n"
     ]
    }
   ],
   "source": [
    "first_row = values[0]\n",
    "print(\"Number of elements in the first row:\", len(first_row))"
   ]
  },
  {
   "cell_type": "code",
   "execution_count": 594,
   "metadata": {},
   "outputs": [
    {
     "name": "stdout",
     "output_type": "stream",
     "text": [
      "Standard deviation of the first row: 1.709792005976982\n"
     ]
    }
   ],
   "source": [
    "s = compute_std_dev(first_row)\n",
    "print(\"Standard deviation of the first row:\", s)"
   ]
  },
  {
   "cell_type": "code",
   "execution_count": 595,
   "metadata": {},
   "outputs": [
    {
     "name": "stdout",
     "output_type": "stream",
     "text": [
      "Confidence interval for mean with gamma 95% of the first row: [2.938083131801373, 3.412013296364564]\n"
     ]
    }
   ],
   "source": [
    "start, end = mean_interval(first_row, 1.96)\n",
    "print(\"Confidence interval for mean with gamma 95% of the first row: [{}, {}]\".format(start, end))"
   ]
  },
  {
   "cell_type": "code",
   "execution_count": 596,
   "metadata": {},
   "outputs": [
    {
     "name": "stdout",
     "output_type": "stream",
     "text": [
      "Number of rows with mean falling in the confidence interval: 4009\n"
     ]
    }
   ],
   "source": [
    "count = 0\n",
    "for row in values[1:]:\n",
    "    m = compute_mean(row)\n",
    "    if m <= end and m >= start:\n",
    "        count += 1\n",
    "\n",
    "print(\"Number of rows with mean falling in the confidence interval:\", count)"
   ]
  },
  {
   "cell_type": "code",
   "execution_count": 597,
   "metadata": {},
   "outputs": [
    {
     "data": {
      "image/png": "[encoded data removed]",
      "text/plain": [
       "<Figure size 432x288 with 1 Axes>"
      ]
     },
     "metadata": {
      "needs_background": "light"
     },
     "output_type": "display_data"
    }
   ],
   "source": [
    "import matplotlib.pyplot as plt \n",
    "\n",
    "mean_values = [compute_mean(x) for x in values]\n",
    "\n",
    "plt.hist(mean_values, bins=100, color = 'red', edgecolor = 'black')\n",
    "\n",
    "plt.title('Means distribution') \n",
    "\n",
    "plt.show() "
   ]
  },
  {
   "cell_type": "markdown",
   "metadata": {},
   "source": [
    "## Exercise 3"
   ]
  },
  {
   "cell_type": "markdown",
   "metadata": {},
   "source": [
    "### Problem statement"
   ]
  },
  {
   "cell_type": "markdown",
   "metadata": {},
   "source": [
    "Load the data from the CSV filedata_ex3.csv.\n",
    "\n",
    "1. Compute the CoV for the data, Jain’s fairness index and the Lorenz curve gap\n",
    "2. Plot the Lorenz curve; discuss the correspondence with the values of the previous point, and the difference between the values of the Lorenz curve gap and of Jain’s fairness index.\n",
    "3. Implement the bootstrap algorithm seen in class and use it to compute 95% and 99% confidence intervals for:    \n",
    "    (a) the Lorenz curve gap;    \n",
    "    (b) Jain’s fairness index;    \n",
    "    (c) the mean of the data;    \n",
    "    (d) the standard deviation of the data,\n",
    "    \n",
    "4. Compare the obtained confidence interval for the mean with the one obtained via the asymptotic formulas. Discuss.\n"
   ]
  },
  {
   "cell_type": "markdown",
   "metadata": {},
   "source": [
    "### Solution"
   ]
  },
  {
   "cell_type": "code",
   "execution_count": 598,
   "metadata": {},
   "outputs": [],
   "source": [
    "def load():\n",
    "    file = open(\"data_ex3.csv\", \"r\")\n",
    "    values = [float(x) for x in file.readlines()]\n",
    "    return values"
   ]
  },
  {
   "cell_type": "code",
   "execution_count": 599,
   "metadata": {},
   "outputs": [
    {
     "name": "stdout",
     "output_type": "stream",
     "text": [
      "Number of values: 500\n"
     ]
    }
   ],
   "source": [
    "values = load()\n",
    "print(\"Number of values:\", len(values))"
   ]
  },
  {
   "cell_type": "code",
   "execution_count": 600,
   "metadata": {},
   "outputs": [
    {
     "name": "stdout",
     "output_type": "stream",
     "text": [
      "Mean: 4.084097581606038\n"
     ]
    }
   ],
   "source": [
    "m = compute_mean(values)\n",
    "print(\"Mean:\", m)"
   ]
  },
  {
   "cell_type": "code",
   "execution_count": 601,
   "metadata": {},
   "outputs": [
    {
     "name": "stdout",
     "output_type": "stream",
     "text": [
      "Standard deviation: 4.086005532648478\n"
     ]
    }
   ],
   "source": [
    "s = compute_std_dev(values)\n",
    "print(\"Standard deviation:\", s)"
   ]
  },
  {
   "cell_type": "code",
   "execution_count": 602,
   "metadata": {},
   "outputs": [],
   "source": [
    "def compute_cov(values):\n",
    "    m = compute_mean(values)\n",
    "    s = compute_std_dev(values)\n",
    "\n",
    "    return s / m"
   ]
  },
  {
   "cell_type": "code",
   "execution_count": 603,
   "metadata": {},
   "outputs": [
    {
     "name": "stdout",
     "output_type": "stream",
     "text": [
      "CoV: 1.000467165880422\n"
     ]
    }
   ],
   "source": [
    "cov = compute_cov(values)\n",
    "print(\"CoV:\", cov)"
   ]
  },
  {
   "cell_type": "code",
   "execution_count": 604,
   "metadata": {},
   "outputs": [],
   "source": [
    "def compute_jfi(values):\n",
    "    cov = compute_cov(values)\n",
    "    return 1 / (1 + cov ** 2)"
   ]
  },
  {
   "cell_type": "code",
   "execution_count": 605,
   "metadata": {},
   "outputs": [
    {
     "name": "stdout",
     "output_type": "stream",
     "text": [
      "Jain’s fairness index: 0.499766471620773\n"
     ]
    }
   ],
   "source": [
    "jfi = compute_jfi(values)\n",
    "print(\"Jain’s fairness index:\", jfi)"
   ]
  },
  {
   "cell_type": "code",
   "execution_count": 606,
   "metadata": {},
   "outputs": [],
   "source": [
    "def compute_lorenz_cg(values):\n",
    "    mean = compute_mean(values)\n",
    "    tot = 0\n",
    "    for i in values:\n",
    "        tot += abs(i - mean)\n",
    "\n",
    "    mad = tot / len(values)\n",
    "    return mad / (2 * mean)"
   ]
  },
  {
   "cell_type": "code",
   "execution_count": 607,
   "metadata": {},
   "outputs": [
    {
     "name": "stdout",
     "output_type": "stream",
     "text": [
      "Lorenz Curve Gap: 0.36230444707595716\n"
     ]
    }
   ],
   "source": [
    "lorenz_gap = compute_lorenz_cg(values)\n",
    "print(\"Lorenz Curve Gap:\", lorenz_gap)"
   ]
  },
  {
   "cell_type": "code",
   "execution_count": 608,
   "metadata": {},
   "outputs": [],
   "source": [
    "def lorenz_curve(values):\n",
    "    x = []\n",
    "    y = []\n",
    "\n",
    "    mean = compute_mean(values)\n",
    "    values = sorted(values)\n",
    "    n = len(values)\n",
    "    tot = 0\n",
    "    for i in range(len(values)):\n",
    "        x.append((i + 1) / n)\n",
    "        tot += values[i]\n",
    "        y.append(tot / (n * mean))\n",
    "\n",
    "    return x, y"
   ]
  },
  {
   "cell_type": "code",
   "execution_count": 609,
   "metadata": {},
   "outputs": [
    {
     "data": {
      "image/png": "[encoded data removed]",
      "text/plain": [
       "<Figure size 432x288 with 1 Axes>"
      ]
     },
     "metadata": {
      "needs_background": "light"
     },
     "output_type": "display_data"
    }
   ],
   "source": [
    "import matplotlib.pyplot as plt \n",
    "\n",
    "x, y = lorenz_curve(values)\n",
    "plt.plot(x, y) \n",
    "\n",
    "plt.title('Lorenz curve') \n",
    "\n",
    "plt.show() "
   ]
  },
  {
   "cell_type": "code",
   "execution_count": 610,
   "metadata": {},
   "outputs": [],
   "source": [
    "r0 = 25"
   ]
  },
  {
   "cell_type": "code",
   "execution_count": 611,
   "metadata": {},
   "outputs": [],
   "source": [
    "import random as rnd\n",
    "\n",
    "def bootstrap(values, r0, gamma, t_func):\n",
    "    R = ceil(2 * r0 / (1 - gamma)) - 1\n",
    "    n = len(values)\n",
    "    T = []\n",
    "    for r in range(R):\n",
    "        samples = []\n",
    "        for _ in range(n):\n",
    "            idx = rnd.randrange(0, n)\n",
    "            samples.append(values[idx])\n",
    "        stat = t_func(samples)\n",
    "        T.append(stat)\n",
    "    T = sorted(T)\n",
    "    return T[r0], T[R + 1 - r0]"
   ]
  },
  {
   "cell_type": "code",
   "execution_count": 612,
   "metadata": {},
   "outputs": [
    {
     "name": "stdout",
     "output_type": "stream",
     "text": [
      "Bootstrap of Lorenz curve gap 95%: [0.3392496287601759, 0.38364516859115594]\n",
      "Bootstrap of Lorenz curve gap 99%: [0.333631516346141, 0.39156891903396757]\n"
     ]
    }
   ],
   "source": [
    "fn = lambda a: compute_lorenz_cg(a)\n",
    "\n",
    "start, end = bootstrap(values, r0, 0.95, fn)\n",
    "print(\"Bootstrap of Lorenz curve gap 95%: [{}, {}]\".format(start, end))\n",
    "\n",
    "start, end = bootstrap(values, r0, 0.99, fn)\n",
    "print(\"Bootstrap of Lorenz curve gap 99%: [{}, {}]\".format(start, end))"
   ]
  },
  {
   "cell_type": "code",
   "execution_count": 613,
   "metadata": {},
   "outputs": [
    {
     "name": "stdout",
     "output_type": "stream",
     "text": [
      "Bootstrap of Jain’s fairness index 95%: [0.45749120745037164, 0.5484364733735997]\n",
      "Bootstrap of Jain’s fairness index 99%: [0.44470899794761903, 0.557574064472521]\n"
     ]
    }
   ],
   "source": [
    "fn = lambda a: compute_jfi(a)\n",
    "\n",
    "start, end = bootstrap(values, r0, 0.95, fn)\n",
    "print(\"Bootstrap of Jain’s fairness index 95%: [{}, {}]\".format(start, end))\n",
    "\n",
    "start, end = bootstrap(values, r0, 0.99, fn)\n",
    "print(\"Bootstrap of Jain’s fairness index 99%: [{}, {}]\".format(start, end))"
   ]
  },
  {
   "cell_type": "code",
   "execution_count": 614,
   "metadata": {},
   "outputs": [
    {
     "name": "stdout",
     "output_type": "stream",
     "text": [
      "Bootstrap of Mean 95%: [3.7498295201376015, 4.4565568572480485]\n",
      "Bootstrap of Mean 99%: [3.6488401615635953, 4.5951551613268835]\n"
     ]
    }
   ],
   "source": [
    "fn = lambda a: compute_mean(a)\n",
    "\n",
    "start, end = bootstrap(values, r0, 0.95, fn)\n",
    "print(\"Bootstrap of Mean 95%: [{}, {}]\".format(start, end))\n",
    "\n",
    "start, end = bootstrap(values, r0, 0.99, fn)\n",
    "print(\"Bootstrap of Mean 99%: [{}, {}]\".format(start, end))"
   ]
  },
  {
   "cell_type": "code",
   "execution_count": 615,
   "metadata": {},
   "outputs": [
    {
     "name": "stdout",
     "output_type": "stream",
     "text": [
      "Bootstrap of Standard deviation 95%: [3.57461135808511, 4.595638002050451]\n",
      "Bootstrap of Standard deviation 99%: [3.3990752209092894, 4.757485498335211]\n"
     ]
    }
   ],
   "source": [
    "fn = lambda a: compute_std_dev(a)\n",
    "\n",
    "start, end = bootstrap(values, r0, 0.95, fn)\n",
    "print(\"Bootstrap of Standard deviation 95%: [{}, {}]\".format(start, end))\n",
    "\n",
    "start, end = bootstrap(values, r0, 0.99, fn)\n",
    "print(\"Bootstrap of Standard deviation 99%: [{}, {}]\".format(start, end))"
   ]
  },
  {
   "cell_type": "code",
   "execution_count": 616,
   "metadata": {},
   "outputs": [
    {
     "name": "stdout",
     "output_type": "stream",
     "text": [
      "Confidence interval for mean with gamma 95%: [3.7259434054103022, 4.442251757801773]\n",
      "Confidence interval for mean with gamma 99%: [3.6126497374300186, 4.555545425782057]\n"
     ]
    }
   ],
   "source": [
    "start, end = mean_interval(values, 1.96)\n",
    "print(\"Confidence interval for mean with gamma 95%: [{}, {}]\".format(start, end))\n",
    "\n",
    "start, end = mean_interval(values, 2.58)\n",
    "print(\"Confidence interval for mean with gamma 99%: [{}, {}]\".format(start, end))"
   ]
  },
  {
   "cell_type": "markdown",
   "metadata": {},
   "source": [
    "## Exercise 4"
   ]
  },
  {
   "cell_type": "markdown",
   "metadata": {},
   "source": [
    "### Problem statement"
   ]
  },
  {
   "cell_type": "markdown",
   "metadata": {},
   "source": [
    "Load the data from the CSV filedata_ex4.csv.\n",
    "\n",
    "1. Give a 95% and a 99% confidence interval for the mean using the bootstrap method.\n",
    "2. Compare the results against the value obtained from the asymptotic formulas. Explain.\n",
    "3. Transform the data using a log transformation and give the a confidence interval for the transformedmean."
   ]
  },
  {
   "cell_type": "markdown",
   "metadata": {},
   "source": [
    "### Solution"
   ]
  },
  {
   "cell_type": "code",
   "execution_count": 617,
   "metadata": {},
   "outputs": [],
   "source": [
    "def load():\n",
    "    file = open(\"data_ex4.csv\", \"r\")\n",
    "    values = [float(x) for x in file.readlines()]\n",
    "    return values"
   ]
  },
  {
   "cell_type": "code",
   "execution_count": 618,
   "metadata": {},
   "outputs": [
    {
     "name": "stdout",
     "output_type": "stream",
     "text": [
      "Number of values: 500\n"
     ]
    }
   ],
   "source": [
    "values = load()\n",
    "print(\"Number of values:\", len(values))"
   ]
  },
  {
   "cell_type": "code",
   "execution_count": 619,
   "metadata": {},
   "outputs": [
    {
     "name": "stdout",
     "output_type": "stream",
     "text": [
      "Mean: 4193.326330220401\n"
     ]
    }
   ],
   "source": [
    "m = compute_mean(values)\n",
    "print(\"Mean:\", m)"
   ]
  },
  {
   "cell_type": "code",
   "execution_count": 620,
   "metadata": {},
   "outputs": [
    {
     "name": "stdout",
     "output_type": "stream",
     "text": [
      "Standard deviation: 84564.22566364624\n"
     ]
    }
   ],
   "source": [
    "s = compute_std_dev(values)\n",
    "print(\"Standard deviation:\", s)"
   ]
  },
  {
   "cell_type": "code",
   "execution_count": 621,
   "metadata": {},
   "outputs": [],
   "source": [
    "r0 = 25"
   ]
  },
  {
   "cell_type": "code",
   "execution_count": 622,
   "metadata": {},
   "outputs": [
    {
     "name": "stdout",
     "output_type": "stream",
     "text": [
      "Bootstrap of Mean 95%: [108.99711353783704, 12021.809593943613]\n",
      "Bootstrap of Mean 99%: [64.70083351051893, 15974.144901488395]\n"
     ]
    }
   ],
   "source": [
    "fn = lambda a: compute_mean(a)\n",
    "\n",
    "start, end = bootstrap(values, r0, 0.95, fn)\n",
    "print(\"Bootstrap of Mean 95%: [{}, {}]\".format(start, end))\n",
    "\n",
    "start, end = bootstrap(values, r0, 0.99, fn)\n",
    "print(\"Bootstrap of Mean 99%: [{}, {}]\".format(start, end))"
   ]
  },
  {
   "cell_type": "code",
   "execution_count": 623,
   "metadata": {},
   "outputs": [
    {
     "name": "stdout",
     "output_type": "stream",
     "text": [
      "Confidence interval for mean with gamma 95%: [-3219.0548660825725, 11605.707526523376]\n",
      "Confidence interval for mean with gamma 99%: [-5563.7876934845335, 13950.440353925336]\n"
     ]
    }
   ],
   "source": [
    "start, end = mean_interval(values, 1.96)\n",
    "print(\"Confidence interval for mean with gamma 95%: [{}, {}]\".format(start, end))\n",
    "\n",
    "start, end = mean_interval(values, 2.58)\n",
    "print(\"Confidence interval for mean with gamma 99%: [{}, {}]\".format(start, end))"
   ]
  },
  {
   "cell_type": "code",
   "execution_count": 624,
   "metadata": {},
   "outputs": [],
   "source": [
    "from math import log, exp\n",
    "\n",
    "log_values = [log(x) for x in values]\n",
    "\n",
    "log_mean = compute_mean(log_values)\n",
    "log_std = compute_std_dev(log_values)"
   ]
  },
  {
   "cell_type": "code",
   "execution_count": 625,
   "metadata": {},
   "outputs": [
    {
     "name": "stdout",
     "output_type": "stream",
     "text": [
      "Transformation mean: 2.272258276241015\n"
     ]
    }
   ],
   "source": [
    "trans_mean = exp(log_mean)\n",
    "print(\"Transformation mean:\", trans_mean)"
   ]
  },
  {
   "cell_type": "code",
   "execution_count": 626,
   "metadata": {},
   "outputs": [
    {
     "name": "stdout",
     "output_type": "stream",
     "text": [
      "Transformation standard deviation: 13.497052033074423\n"
     ]
    }
   ],
   "source": [
    "trans_std = exp(log_std)\n",
    "print(\"Transformation standard deviation:\", trans_std)"
   ]
  },
  {
   "cell_type": "code",
   "execution_count": 627,
   "metadata": {},
   "outputs": [
    {
     "name": "stdout",
     "output_type": "stream",
     "text": [
      "Confidence interval for transformation mean with gamma 95%: [1.8087889005696096, 2.85448328012177]\n",
      "Confidence interval for transformation mean with gamma 99%: [1.6828657636340876, 3.068074581775398]\n"
     ]
    }
   ],
   "source": [
    "start, end = mean_interval(log_values, 1.96)\n",
    "start, end = exp(start), exp(end)\n",
    "print(\"Confidence interval for transformation mean with gamma 95%: [{}, {}]\".format(start, end))\n",
    "\n",
    "start, end = mean_interval(log_values, 2.58)\n",
    "start, end = exp(start), exp(end)\n",
    "print(\"Confidence interval for transformation mean with gamma 99%: [{}, {}]\".format(start, end))"
   ]
  },
  {
   "cell_type": "code",
   "execution_count": 628,
   "metadata": {},
   "outputs": [
    {
     "data": {
      "image/png": "[encoded data removed]",
      "text/plain": [
       "<Figure size 432x288 with 1 Axes>"
      ]
     },
     "metadata": {
      "needs_background": "light"
     },
     "output_type": "display_data"
    }
   ],
   "source": [
    "plt.hist(values, bins=50, color = 'blue', edgecolor = 'black')\n",
    "\n",
    "plt.title('Sample data distibution') \n",
    "\n",
    "plt.show() "
   ]
  },
  {
   "cell_type": "code",
   "execution_count": 629,
   "metadata": {},
   "outputs": [
    {
     "data": {
      "image/png": "[encoded data removed]",
      "text/plain": [
       "<Figure size 432x288 with 1 Axes>"
      ]
     },
     "metadata": {
      "needs_background": "light"
     },
     "output_type": "display_data"
    }
   ],
   "source": [
    "plt.hist(log_values, bins=50, color = 'red', edgecolor = 'black')\n",
    "\n",
    "plt.title('Log-transformed data distribution') \n",
    "\n",
    "plt.show() "
   ]
  },
  {
   "cell_type": "markdown",
   "metadata": {},
   "source": [
    "## Exercise 5"
   ]
  },
  {
   "cell_type": "markdown",
   "metadata": {},
   "source": [
    "### Problem statement"
   ]
  },
  {
   "cell_type": "markdown",
   "metadata": {},
   "source": [
    "Load the data from the CSV filedata_ex5.csv. Note that this data represents successes (ones) and insuccesses(zeros) of some experiment.\n",
    "\n",
    "1. Find the probability of success and confidence intervals for it at both a 95% and at a 99% level.\n",
    "2. Consider now only the first 15 data points.  Find a confidence interval for the probability of success.Explain."
   ]
  },
  {
   "cell_type": "markdown",
   "metadata": {},
   "source": [
    "### Solution"
   ]
  },
  {
   "cell_type": "code",
   "execution_count": 630,
   "metadata": {},
   "outputs": [],
   "source": [
    "def load():\n",
    "    file = open(\"data_ex5.csv\", \"r\")\n",
    "    values = [int(x) for x in file.readlines()[0].split(',')]\n",
    "    return values"
   ]
  },
  {
   "cell_type": "code",
   "execution_count": 631,
   "metadata": {},
   "outputs": [
    {
     "name": "stdout",
     "output_type": "stream",
     "text": [
      "Number of values: 1000\n"
     ]
    }
   ],
   "source": [
    "values = load()\n",
    "print(\"Number of values:\", len(values))"
   ]
  },
  {
   "cell_type": "code",
   "execution_count": 632,
   "metadata": {},
   "outputs": [
    {
     "name": "stdout",
     "output_type": "stream",
     "text": [
      "Probability of success (mean): 0.125\n"
     ]
    }
   ],
   "source": [
    "m = compute_mean(values)\n",
    "print(\"Probability of success (mean):\", m)"
   ]
  },
  {
   "cell_type": "code",
   "execution_count": 633,
   "metadata": {},
   "outputs": [
    {
     "name": "stdout",
     "output_type": "stream",
     "text": [
      "Standard deviation: 0.33071891388307384\n"
     ]
    }
   ],
   "source": [
    "s = compute_std_dev(values)\n",
    "print(\"Standard deviation:\", s)"
   ]
  },
  {
   "cell_type": "code",
   "execution_count": 634,
   "metadata": {},
   "outputs": [
    {
     "name": "stdout",
     "output_type": "stream",
     "text": [
      "Confidence interval for mean with gamma 95%: [0.10450182934991514, 0.14549817065008486]\n",
      "Confidence interval for mean with gamma 99%: [0.09801771414427606, 0.15198228585572393]\n"
     ]
    }
   ],
   "source": [
    "start, end = mean_interval(values, 1.96)\n",
    "print(\"Confidence interval for mean with gamma 95%: [{}, {}]\".format(start, end))\n",
    "\n",
    "start, end = mean_interval(values, 2.58)\n",
    "print(\"Confidence interval for mean with gamma 99%: [{}, {}]\".format(start, end))"
   ]
  },
  {
   "cell_type": "code",
   "execution_count": 635,
   "metadata": {},
   "outputs": [],
   "source": [
    "first_15_rows = values[:15]"
   ]
  },
  {
   "cell_type": "code",
   "execution_count": 636,
   "metadata": {},
   "outputs": [
    {
     "name": "stdout",
     "output_type": "stream",
     "text": [
      "Probability of success of the first 15 rows (mean): 0.0\n"
     ]
    }
   ],
   "source": [
    "m_r = compute_mean(first_15_rows)\n",
    "print(\"Probability of success of the first 15 rows (mean):\", m_r)"
   ]
  }
 ],
 "metadata": {
  "colab": {
   "name": "Untitled2.ipynb",
   "provenance": []
  },
  "kernelspec": {
   "display_name": "Python 3",
   "language": "python",
   "name": "python3"
  },
  "language_info": {
   "codemirror_mode": {
    "name": "ipython",
    "version": 3
   },
   "file_extension": ".py",
   "mimetype": "text/x-python",
   "name": "python",
   "nbconvert_exporter": "python",
   "pygments_lexer": "ipython3",
   "version": "3.7.6"
  }
 },
 "nbformat": 4,
 "nbformat_minor": 1
}
