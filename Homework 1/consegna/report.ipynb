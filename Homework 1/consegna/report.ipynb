{
 "cells": [
  {
   "cell_type": "markdown",
   "metadata": {
    "colab_type": "text",
    "id": "pLO3ueYsmH6A"
   },
   "source": [
    "# Simulation and Performance Evaluation - Homework 1\n",
    "\n",
    "### University of Trento - A.Y. 2019 / 2020\n",
    "\n",
    "Lotito Quintino Francesco - 215032\n",
    "\n",
    "Zanella Davide - 211463\n",
    "\n",
    "---"
   ]
  },
  {
   "cell_type": "markdown",
   "metadata": {},
   "source": [
    "**Important:** we expect the datasets to be in the same directory of this notebook."
   ]
  },
  {
   "cell_type": "markdown",
   "metadata": {
    "colab_type": "text",
    "id": "sFKcR8iAmNRJ"
   },
   "source": [
    "## Exercise 1"
   ]
  },
  {
   "cell_type": "markdown",
   "metadata": {
    "colab_type": "text",
    "id": "nF3heP8_pPob"
   },
   "source": [
    "### Problem statement"
   ]
  },
  {
   "cell_type": "markdown",
   "metadata": {
    "colab_type": "text",
    "id": "4rVhUnV-l6x7"
   },
   "source": [
    "Load the iid data samples from the CSV file `data_ex1.csv` and provide:\n",
    "1. the median and a 95% confidence interval for the median\n",
    "2. the mean, a 95% and a 99% confidence interval for the mean\n",
    "\n",
    "Explain which formulas you used and why."
   ]
  },
  {
   "cell_type": "markdown",
   "metadata": {
    "colab_type": "text",
    "id": "c4E26DOvpZ5s"
   },
   "source": [
    "### Solution"
   ]
  },
  {
   "cell_type": "markdown",
   "metadata": {
    "colab_type": "text",
    "id": "XeuRHOtJpgi-"
   },
   "source": [
    "Firstly, we need to load the data from `data_ex1.csv`. We also sort the input data, which will be useful later.\n"
   ]
  },
  {
   "cell_type": "code",
   "execution_count": 898,
   "metadata": {
    "colab": {},
    "colab_type": "code",
    "id": "ES5BNQqtqe3r"
   },
   "outputs": [],
   "source": [
    "def load():\n",
    "    file = open(\"data_ex1.csv\", \"r\")\n",
    "    data = [float(x) for x in file.readlines()]\n",
    "    return data"
   ]
  },
  {
   "cell_type": "code",
   "execution_count": 899,
   "metadata": {},
   "outputs": [
    {
     "name": "stdout",
     "output_type": "stream",
     "text": [
      "Number of samples loaded:  1000\n"
     ]
    }
   ],
   "source": [
    "data = sorted(load())\n",
    "print(\"Number of samples loaded: \", len(data))"
   ]
  },
  {
   "cell_type": "markdown",
   "metadata": {},
   "source": [
    "In this figure we can visualize the distribution of the data loaded from the given dataset."
   ]
  },
  {
   "cell_type": "code",
   "execution_count": 900,
   "metadata": {},
   "outputs": [
    {
     "data": {
      "image/png": "[encoded data removed]",
      "text/plain": [
       "<Figure size 432x288 with 1 Axes>"
      ]
     },
     "metadata": {
      "needs_background": "light"
     },
     "output_type": "display_data"
    }
   ],
   "source": [
    "%matplotlib inline\n",
    "import matplotlib.pyplot as plt\n",
    "\n",
    "plt.hist(data, bins=80, color = 'red', edgecolor = 'black')\n",
    "plt.title('Data distribution')\n",
    "plt.show()"
   ]
  },
  {
   "cell_type": "markdown",
   "metadata": {},
   "source": [
    "We are asked to compute the median of the input data, the median is the value separating the higher half from the lower half of a data sample. \n",
    "\n",
    "The median is computed by the function `compute_median` which takes the list of values as a parameter and returns the median of the data. \n",
    "\n",
    "Let $L$ be the sorted input list and $n = |L|$. Since the list is sorted, if $n$ is odd the median is $L_{\\frac{n+1}{2}}$, if $n$ is even the median is the arithmetic mean of $L_{\\frac{n}{2}}$ and $L_{\\frac{n+1}{2}}$.\n",
    "\n",
    "In our case, the cardinality of the input data is 1000, so it is even."
   ]
  },
  {
   "cell_type": "code",
   "execution_count": 901,
   "metadata": {},
   "outputs": [],
   "source": [
    "def compute_median(values):\n",
    "    # we need to sort the values\n",
    "    values = list(sorted(values)) \n",
    "    n = len(values)\n",
    "    if(n % 2 != 0):\n",
    "        # odd case\n",
    "        idx = int((n+1) / 2)\n",
    "        return values[idx]\n",
    "    else:\n",
    "        # even case\n",
    "        idx = int(n/2)\n",
    "        return (values[idx] + values[idx + 1]) / 2"
   ]
  },
  {
   "cell_type": "code",
   "execution_count": 902,
   "metadata": {},
   "outputs": [],
   "source": [
    "median = compute_median(data)"
   ]
  },
  {
   "cell_type": "code",
   "execution_count": 903,
   "metadata": {},
   "outputs": [
    {
     "name": "stdout",
     "output_type": "stream",
     "text": [
      "Median:  0.4034808006202\n"
     ]
    }
   ],
   "source": [
    "print(\"Median: \", median)"
   ]
  },
  {
   "cell_type": "markdown",
   "metadata": {},
   "source": [
    "Here we load some standard math function which will be useful later."
   ]
  },
  {
   "cell_type": "code",
   "execution_count": 904,
   "metadata": {},
   "outputs": [],
   "source": [
    "from math import floor, ceil, sqrt"
   ]
  },
  {
   "cell_type": "markdown",
   "metadata": {},
   "source": [
    "Now we are asked to compute a 95% confidence interval for the median. This interval is constructed from the observed data such that, with at least 95% probability, the true population value of the median falls in it. Since the input data is iid and is ordered, we can rely on Theorem 2.1 from the slides of the lecture \"Lesson on statistical summaries, confidence/prediction intervals, and the iid assumption\" and compute lower and upper bounds of the requested confidence interval. \n",
    "\n",
    "We will use the some notation of the slides, meaning $j$ is the lower bound and $k$ is the upper bound."
   ]
  },
  {
   "cell_type": "code",
   "execution_count": 905,
   "metadata": {},
   "outputs": [],
   "source": [
    "# compute j, k for confidence level 95%\n",
    "def get_j_k(values):\n",
    "    n = len(values)\n",
    "    j_idx = floor(0.5 * n - 0.98 * sqrt(n))\n",
    "    k_idx = ceil(0.5 * n + 1 + 0.98 * sqrt(n))\n",
    "    return j_idx, k_idx"
   ]
  },
  {
   "cell_type": "code",
   "execution_count": 906,
   "metadata": {},
   "outputs": [
    {
     "name": "stdout",
     "output_type": "stream",
     "text": [
      "j: 469\n",
      "k: 532\n"
     ]
    }
   ],
   "source": [
    "j, k = get_j_k(data)\n",
    "print(\"j:\", j)\n",
    "print(\"k:\", k)"
   ]
  },
  {
   "cell_type": "code",
   "execution_count": 907,
   "metadata": {},
   "outputs": [
    {
     "name": "stdout",
     "output_type": "stream",
     "text": [
      "95% confidence interval for the median: [0.384475528575523, 0.417181958327227]\n"
     ]
    }
   ],
   "source": [
    "j_val, k_val = data[j], data[k]\n",
    "print(\"95% confidence interval for the median: [{}, {}]\".format(j_val, k_val))"
   ]
  },
  {
   "cell_type": "markdown",
   "metadata": {},
   "source": [
    "For the next step, we are asked to compute the mean of the observed data and to compute a 95% and a 99% confidence interval for the mean. We define a function `compute_mean` which obviously takes the list of values as a parameter and returns the arithmetic mean of them."
   ]
  },
  {
   "cell_type": "code",
   "execution_count": 908,
   "metadata": {},
   "outputs": [],
   "source": [
    "def compute_mean(values):\n",
    "    tot = 0\n",
    "    for i in values:\n",
    "        tot += i\n",
    "    return tot / len(values)"
   ]
  },
  {
   "cell_type": "code",
   "execution_count": 909,
   "metadata": {},
   "outputs": [
    {
     "name": "stdout",
     "output_type": "stream",
     "text": [
      "Mean: 0.41020458058272363\n"
     ]
    }
   ],
   "source": [
    "mean = compute_mean(data)\n",
    "print(\"Mean:\", mean)"
   ]
  },
  {
   "cell_type": "markdown",
   "metadata": {},
   "source": [
    "We also define a function `compute_std_dev` which takes the list of values as a parameter, computes the mean and returns the standard deviation of the input values."
   ]
  },
  {
   "cell_type": "code",
   "execution_count": 910,
   "metadata": {},
   "outputs": [],
   "source": [
    "def compute_std_dev(values):\n",
    "    mean = compute_mean(values)\n",
    "    tot = 0\n",
    "    for i in values:\n",
    "        tot += (i - mean) ** 2\n",
    "    return sqrt(tot / len(values))"
   ]
  },
  {
   "cell_type": "code",
   "execution_count": 911,
   "metadata": {},
   "outputs": [
    {
     "name": "stdout",
     "output_type": "stream",
     "text": [
      "Standard deviation: 0.18280369403703178\n"
     ]
    }
   ],
   "source": [
    "std_dev = compute_std_dev(data)\n",
    "print(\"Standard deviation:\", std_dev)"
   ]
  },
  {
   "cell_type": "code",
   "execution_count": 912,
   "metadata": {},
   "outputs": [],
   "source": [
    "def mean_interval(data, gamma):\n",
    "    eta = None\n",
    "    if gamma == 0.95:\n",
    "        eta = 1.960\n",
    "    elif gamma == 0.99:\n",
    "        eta = 2.576\n",
    "    else:\n",
    "        # in these excercises we are only interested in 95% and 99% confidence\n",
    "        pass\n",
    "    mean = compute_mean(data)\n",
    "    std_dev = compute_std_dev(data)\n",
    "    incr = eta * std_dev / sqrt(len(data))\n",
    "    return mean - incr, mean + incr"
   ]
  },
  {
   "cell_type": "code",
   "execution_count": 913,
   "metadata": {},
   "outputs": [
    {
     "name": "stdout",
     "output_type": "stream",
     "text": [
      "Confidence interval for mean with gamma 95%: [0.39887429024087223, 0.42153487092457503]\n"
     ]
    }
   ],
   "source": [
    "start, end = mean_interval(data, 0.95)\n",
    "print(\"Confidence interval for mean with gamma 95%: [{}, {}]\".format(start, end))"
   ]
  },
  {
   "cell_type": "code",
   "execution_count": 914,
   "metadata": {},
   "outputs": [
    {
     "name": "stdout",
     "output_type": "stream",
     "text": [
      "Confidence interval for mean with gamma 99%: [0.39531334184771894, 0.42509581931772833]\n"
     ]
    }
   ],
   "source": [
    "start, end = mean_interval(data, 0.99)\n",
    "print(\"Confidence interval for mean with gamma 99%: [{}, {}]\".format(start, end))"
   ]
  },
  {
   "cell_type": "markdown",
   "metadata": {},
   "source": [
    "## Exercise 2"
   ]
  },
  {
   "cell_type": "markdown",
   "metadata": {},
   "source": [
    "### Problem statement"
   ]
  },
  {
   "cell_type": "markdown",
   "metadata": {},
   "source": [
    "Load the data from the CSV file `data_ex2.csv`. This should be a matrix with 6001 rows and 200 columns. All entries are iid.\n",
    "\n",
    "1. Find a 95% confidence interval for the data of the first row.\n",
    "2. Find the mean of all the remaining 6000 rows, and check how many of these means fall inside the confidenceinterval you computed for the first row. Is this what you expected? Explain."
   ]
  },
  {
   "cell_type": "markdown",
   "metadata": {},
   "source": [
    "### Solution"
   ]
  },
  {
   "cell_type": "code",
   "execution_count": 915,
   "metadata": {},
   "outputs": [],
   "source": [
    "def load():\n",
    "    file = open(\"data_ex2.csv\", \"r\")\n",
    "    values = [[float(x) for x in line.split(\",\")] for line in file.readlines()]\n",
    "    return values"
   ]
  },
  {
   "cell_type": "code",
   "execution_count": 916,
   "metadata": {},
   "outputs": [
    {
     "name": "stdout",
     "output_type": "stream",
     "text": [
      "Number of values: 6001\n"
     ]
    }
   ],
   "source": [
    "values = load()\n",
    "\n",
    "print(\"Number of values:\", len(values))"
   ]
  },
  {
   "cell_type": "code",
   "execution_count": 917,
   "metadata": {},
   "outputs": [
    {
     "name": "stdout",
     "output_type": "stream",
     "text": [
      "Number of elements in the first row: 200\n"
     ]
    }
   ],
   "source": [
    "first_row = values[0]\n",
    "print(\"Number of elements in the first row:\", len(first_row))"
   ]
  },
  {
   "cell_type": "code",
   "execution_count": 918,
   "metadata": {},
   "outputs": [
    {
     "name": "stdout",
     "output_type": "stream",
     "text": [
      "Standard deviation of the first row: 1.709792005976982\n"
     ]
    }
   ],
   "source": [
    "s = compute_std_dev(first_row)\n",
    "print(\"Standard deviation of the first row:\", s)"
   ]
  },
  {
   "cell_type": "code",
   "execution_count": 919,
   "metadata": {},
   "outputs": [
    {
     "name": "stdout",
     "output_type": "stream",
     "text": [
      "Confidence interval for mean with gamma 95% of the first row: [2.863608391655729, 3.486488036510208]\n"
     ]
    }
   ],
   "source": [
    "start, end = mean_interval(first_row, 0.99)\n",
    "print(\"Confidence interval for mean with gamma 95% of the first row: [{}, {}]\".format(start, end))"
   ]
  },
  {
   "cell_type": "code",
   "execution_count": 920,
   "metadata": {},
   "outputs": [
    {
     "name": "stdout",
     "output_type": "stream",
     "text": [
      "Number of rows with mean falling in the confidence interval: 4958\n"
     ]
    }
   ],
   "source": [
    "count = 0\n",
    "for row in values[1:]:\n",
    "    m = compute_mean(row)\n",
    "    if m <= end and m >= start:\n",
    "        count += 1\n",
    "\n",
    "print(\"Number of rows with mean falling in the confidence interval:\", count)"
   ]
  },
  {
   "cell_type": "code",
   "execution_count": 922,
   "metadata": {},
   "outputs": [
    {
     "data": {
      "image/png": "[encoded data removed]",
      "text/plain": [
       "<Figure size 432x288 with 1 Axes>"
      ]
     },
     "metadata": {
      "needs_background": "light"
     },
     "output_type": "display_data"
    }
   ],
   "source": [
    "%matplotlib inline\n",
    "import matplotlib.pyplot as plt \n",
    "\n",
    "mean_values = [compute_mean(x) for x in values]\n",
    "\n",
    "N, bins, patches = plt.hist(mean_values, bins=100, color = 'red', edgecolor = 'black')\n",
    "\n",
    "\n",
    "for i in range(len(patches)):\n",
    "    if bins[i] <= end and bins[i] >= start:\n",
    "        patches[i].set_facecolor('b')\n",
    "    else:\n",
    "        patches[i].set_facecolor('r')\n",
    "        \n",
    "\n",
    "plt.title('Means distribution') \n",
    "\n",
    "plt.show() "
   ]
  },
  {
   "cell_type": "markdown",
   "metadata": {},
   "source": [
    "## Exercise 3"
   ]
  },
  {
   "cell_type": "markdown",
   "metadata": {},
   "source": [
    "### Problem statement"
   ]
  },
  {
   "cell_type": "markdown",
   "metadata": {},
   "source": [
    "Load the data from the CSV file `data_ex3.csv`.\n",
    "\n",
    "1. Compute the CoV for the data, Jain’s fairness index and the Lorenz curve gap\n",
    "2. Plot the Lorenz curve; discuss the correspondence with the values of the previous point, and the difference between the values of the Lorenz curve gap and of Jain’s fairness index.\n",
    "3. Implement the bootstrap algorithm seen in class and use it to compute 95% and 99% confidence intervals for:    \n",
    "    (a) the Lorenz curve gap;    \n",
    "    (b) Jain’s fairness index;    \n",
    "    (c) the mean of the data;    \n",
    "    (d) the standard deviation of the data,\n",
    "    \n",
    "4. Compare the obtained confidence interval for the mean with the one obtained via the asymptotic formulas. Discuss.\n"
   ]
  },
  {
   "cell_type": "markdown",
   "metadata": {},
   "source": [
    "### Solution"
   ]
  },
  {
   "cell_type": "markdown",
   "metadata": {},
   "source": [
    "Firstly, we need to load the data from `data_ex3.csv`."
   ]
  },
  {
   "cell_type": "code",
   "execution_count": 851,
   "metadata": {},
   "outputs": [],
   "source": [
    "def load():\n",
    "    file = open(\"data_ex3.csv\", \"r\")\n",
    "    values = [float(x) for x in file.readlines()]\n",
    "    return values"
   ]
  },
  {
   "cell_type": "code",
   "execution_count": 852,
   "metadata": {},
   "outputs": [
    {
     "name": "stdout",
     "output_type": "stream",
     "text": [
      "Number of values: 500\n"
     ]
    }
   ],
   "source": [
    "values = load()\n",
    "print(\"Number of values:\", len(values))"
   ]
  },
  {
   "cell_type": "code",
   "execution_count": 853,
   "metadata": {},
   "outputs": [
    {
     "name": "stdout",
     "output_type": "stream",
     "text": [
      "Mean: 4.084097581606038\n"
     ]
    }
   ],
   "source": [
    "m = compute_mean(values)\n",
    "print(\"Mean:\", m)"
   ]
  },
  {
   "cell_type": "code",
   "execution_count": 854,
   "metadata": {},
   "outputs": [
    {
     "name": "stdout",
     "output_type": "stream",
     "text": [
      "Standard deviation: 4.086005532648478\n"
     ]
    }
   ],
   "source": [
    "s = compute_std_dev(values)\n",
    "print(\"Standard deviation:\", s)"
   ]
  },
  {
   "cell_type": "markdown",
   "metadata": {},
   "source": [
    "The Coefficient of Variation summarizes the variation of data around the mean.\n",
    "It's computed by $CoV = \\frac{s}{m}$.\n",
    "\n",
    "The value obtained indicates the variation of the dataset in relation with its mean."
   ]
  },
  {
   "cell_type": "code",
   "execution_count": 855,
   "metadata": {},
   "outputs": [],
   "source": [
    "def compute_cov(values):\n",
    "    m = compute_mean(values)\n",
    "    s = compute_std_dev(values)\n",
    "\n",
    "    return s / m"
   ]
  },
  {
   "cell_type": "code",
   "execution_count": 856,
   "metadata": {},
   "outputs": [
    {
     "name": "stdout",
     "output_type": "stream",
     "text": [
      "CoV: 1.000467165880422\n"
     ]
    }
   ],
   "source": [
    "cov = compute_cov(values)\n",
    "print(\"CoV:\", cov)"
   ]
  },
  {
   "cell_type": "markdown",
   "metadata": {},
   "source": [
    "We obtained a Coefficient of Variation slightly higher than 1, meaning that the dataset has high variance."
   ]
  },
  {
   "cell_type": "markdown",
   "metadata": {},
   "source": [
    "The Jain’s fairness index can be computed as $JFI = \\frac{1}{1 + CoV^2}$.\n",
    "\n",
    "It's equal to 1 when all the values of the dataset are equal and $\\frac{1}{n}$ when we have the maximum unfairness in the data."
   ]
  },
  {
   "cell_type": "code",
   "execution_count": 857,
   "metadata": {},
   "outputs": [],
   "source": [
    "def compute_jfi(values):\n",
    "    cov = compute_cov(values)\n",
    "    return 1 / (1 + cov ** 2)"
   ]
  },
  {
   "cell_type": "code",
   "execution_count": 858,
   "metadata": {},
   "outputs": [
    {
     "name": "stdout",
     "output_type": "stream",
     "text": [
      "Jain’s fairness index: 0.499766471620773\n",
      "Maximum possible unfairness of the dataset: 0.002\n"
     ]
    }
   ],
   "source": [
    "jfi = compute_jfi(values)\n",
    "print(\"Jain’s fairness index:\", jfi)\n",
    "print(\"Maximum possible unfairness of the dataset:\", 1/len(values))"
   ]
  },
  {
   "cell_type": "markdown",
   "metadata": {},
   "source": [
    "The Jain’s fairness index obtained is low, closer to the maximum unfairness value of the dataset rather than 1.\n",
    "It tells us what the Coefficient of Variation previously said: the dataset has high variance."
   ]
  },
  {
   "cell_type": "markdown",
   "metadata": {},
   "source": [
    "The Lorenz Curve Gap is computed by $\\frac{\\frac{1}{n}\\sum_{i=1}^{n}\\mid x_i - m \\mid}{2m}$. As the nominator there is the Mean Absolute Deviation.\n",
    "\n",
    "The Lorenz Curve Gap is bounded by 0 and $1 - \\frac{1}{n}$."
   ]
  },
  {
   "cell_type": "code",
   "execution_count": 859,
   "metadata": {},
   "outputs": [],
   "source": [
    "def compute_lorenz_cg(values):\n",
    "    mean = compute_mean(values)\n",
    "    tot = 0\n",
    "    for i in values:\n",
    "        tot += abs(i - mean)\n",
    "\n",
    "    mad = tot / len(values)\n",
    "    return mad / (2 * mean)"
   ]
  },
  {
   "cell_type": "code",
   "execution_count": 860,
   "metadata": {},
   "outputs": [
    {
     "name": "stdout",
     "output_type": "stream",
     "text": [
      "Lorenz Curve Gap: 0.36230444707595716\n"
     ]
    }
   ],
   "source": [
    "lorenz_gap = compute_lorenz_cg(values)\n",
    "print(\"Lorenz Curve Gap:\", lorenz_gap)"
   ]
  },
  {
   "cell_type": "markdown",
   "metadata": {},
   "source": [
    "In this case the Lorenz Curve Gap is bounded by 0 and 0.999.\n",
    "\n",
    "The higher the gap, the higher the variance of the data."
   ]
  },
  {
   "cell_type": "code",
   "execution_count": 861,
   "metadata": {},
   "outputs": [],
   "source": [
    "def lorenz_curve(values):\n",
    "    x = []\n",
    "    y = []\n",
    "\n",
    "    mean = compute_mean(values)\n",
    "    values = sorted(values)\n",
    "    n = len(values)\n",
    "    tot = 0\n",
    "    for i in range(len(values)):\n",
    "        x.append((i + 1) / n)\n",
    "        tot += values[i]\n",
    "        y.append(tot / (n * mean))\n",
    "\n",
    "    return x, y"
   ]
  },
  {
   "cell_type": "markdown",
   "metadata": {},
   "source": [
    "The Lorenz Curve shows how much the data are far from the ideal fairness of the data."
   ]
  },
  {
   "cell_type": "code",
   "execution_count": 862,
   "metadata": {},
   "outputs": [
    {
     "data": {
      "image/png": "[encoded data removed]",
      "text/plain": [
       "<Figure size 432x288 with 1 Axes>"
      ]
     },
     "metadata": {
      "needs_background": "light"
     },
     "output_type": "display_data"
    }
   ],
   "source": [
    "%matplotlib inline\n",
    "import matplotlib.pyplot as plt \n",
    "\n",
    "from math import sin, cos, radians\n",
    "\n",
    "\n",
    "x = y = [0, 1 - 1/len(values)]\n",
    "plt.plot(x, y, label='Maximum fairness') \n",
    "\n",
    "x, y = lorenz_curve(values)\n",
    "plt.plot(x, y, label='Lorenz Curve')\n",
    "\n",
    "\n",
    "dist = lorenz_gap * cos(radians(45))\n",
    "dist = dist * cos(radians(45))\n",
    "\n",
    "\n",
    "lc_x = [0.5, 0.5 + dist]\n",
    "lc_y = [0.5, 0.5 - dist]\n",
    "plt.plot(lc_x, lc_y)\n",
    "\n",
    "lcg_x = [0.5 + dist, 0.5 + dist]\n",
    "lcg_y = [0.5 - dist, 0.5 + dist]\n",
    "plt.plot(lcg_x, lcg_y, linestyle='dashed', label='Lorenz Curve Gap')\n",
    "\n",
    "plt.axis('equal')\n",
    "plt.title('Lorenz curve') \n",
    "plt.legend()\n",
    "\n",
    "plt.show() "
   ]
  },
  {
   "cell_type": "markdown",
   "metadata": {},
   "source": [
    "The blue line is the maximum fairness that the data could have, while the orange one is the Lorenz Curve.\n",
    "\n",
    "The Lorenz Curve Gap is the dashed line in red.\n",
    "\n",
    "**TODO: compare Lorenz Curve Gap with Jaine's Fairness index**"
   ]
  },
  {
   "cell_type": "markdown",
   "metadata": {},
   "source": [
    "***"
   ]
  },
  {
   "cell_type": "markdown",
   "metadata": {},
   "source": [
    "Now we have to use the bootstrap algorithm, so, firstly, we decide a value for the r0 variable, which will, later on, decide the number of iterations, so the precision of the bootstrap.\n",
    "\n",
    "We choose 25 to avoid too much computation."
   ]
  },
  {
   "cell_type": "code",
   "execution_count": 863,
   "metadata": {},
   "outputs": [],
   "source": [
    "r0 = 25"
   ]
  },
  {
   "cell_type": "markdown",
   "metadata": {},
   "source": [
    "With the bootstrap method we use the empirical distribution in place of the theoretical (unknown) distribution. \n",
    "\n",
    "Basically we calculate the desired metric on a new dataset created by randomly selecting, with repetitions, N elements from the original dataset.\n",
    "This process is repeated in order to obtain a good estimation of the confidence interval.\n",
    "\n",
    "Because of the random, every time we recompute the same bootstrap for a metric, we obtain a slightly different confidence interval."
   ]
  },
  {
   "cell_type": "code",
   "execution_count": 864,
   "metadata": {},
   "outputs": [],
   "source": [
    "import random as rnd\n",
    "\n",
    "def bootstrap(values, r0, gamma, t_func):\n",
    "    R = ceil(2 * r0 / (1 - gamma)) - 1\n",
    "    n = len(values)\n",
    "    T = []\n",
    "    for r in range(R):\n",
    "        samples = []\n",
    "        for _ in range(n):\n",
    "            idx = rnd.randrange(0, n)\n",
    "            samples.append(values[idx])\n",
    "        stat = t_func(samples)\n",
    "        T.append(stat)\n",
    "    T = sorted(T)\n",
    "    return T[r0], T[R + 1 - r0]"
   ]
  },
  {
   "cell_type": "code",
   "execution_count": 865,
   "metadata": {},
   "outputs": [
    {
     "name": "stdout",
     "output_type": "stream",
     "text": [
      "Bootstrap of Lorenz curve gap 95%: [0.340734648888233, 0.38524914168273394]\n",
      "Bootstrap of Lorenz curve gap 99%: [0.3325476168557816, 0.39169405957970216]\n"
     ]
    }
   ],
   "source": [
    "fn = lambda a: compute_lorenz_cg(a)\n",
    "\n",
    "start, end = bootstrap(values, r0, 0.95, fn)\n",
    "print(\"Bootstrap of Lorenz curve gap 95%: [{}, {}]\".format(start, end))\n",
    "\n",
    "start, end = bootstrap(values, r0, 0.99, fn)\n",
    "print(\"Bootstrap of Lorenz curve gap 99%: [{}, {}]\".format(start, end))"
   ]
  },
  {
   "cell_type": "code",
   "execution_count": 866,
   "metadata": {},
   "outputs": [
    {
     "name": "stdout",
     "output_type": "stream",
     "text": [
      "Bootstrap of Jain’s fairness index 95%: [0.4597106503064137, 0.5448275547730641]\n",
      "Bootstrap of Jain’s fairness index 99%: [0.4446546727439674, 0.562980636646075]\n"
     ]
    }
   ],
   "source": [
    "fn = lambda a: compute_jfi(a)\n",
    "\n",
    "start, end = bootstrap(values, r0, 0.95, fn)\n",
    "print(\"Bootstrap of Jain’s fairness index 95%: [{}, {}]\".format(start, end))\n",
    "\n",
    "start, end = bootstrap(values, r0, 0.99, fn)\n",
    "print(\"Bootstrap of Jain’s fairness index 99%: [{}, {}]\".format(start, end))"
   ]
  },
  {
   "cell_type": "code",
   "execution_count": 867,
   "metadata": {},
   "outputs": [
    {
     "name": "stdout",
     "output_type": "stream",
     "text": [
      "Bootstrap of Mean 95%: [3.724346059421885, 4.454023502211518]\n",
      "Bootstrap of Mean 99%: [3.632445118882223, 4.565302782370128]\n"
     ]
    }
   ],
   "source": [
    "fn = lambda a: compute_mean(a)\n",
    "\n",
    "b_m_s_95, b_m_e_95 = bootstrap(values, r0, 0.95, fn)\n",
    "print(\"Bootstrap of Mean 95%: [{}, {}]\".format(b_m_s_95, b_m_e_95))\n",
    "\n",
    "b_m_s_99, b_m_e_99 = bootstrap(values, r0, 0.99, fn)\n",
    "print(\"Bootstrap of Mean 99%: [{}, {}]\".format(b_m_s_99, b_m_e_99))"
   ]
  },
  {
   "cell_type": "code",
   "execution_count": 868,
   "metadata": {},
   "outputs": [
    {
     "name": "stdout",
     "output_type": "stream",
     "text": [
      "Bootstrap of Standard deviation 95%: [3.546657942544189, 4.594101130028955]\n",
      "Bootstrap of Standard deviation 99%: [3.4344054532767854, 4.780931572913354]\n"
     ]
    }
   ],
   "source": [
    "fn = lambda a: compute_std_dev(a)\n",
    "\n",
    "start, end = bootstrap(values, r0, 0.95, fn)\n",
    "print(\"Bootstrap of Standard deviation 95%: [{}, {}]\".format(start, end))\n",
    "\n",
    "start, end = bootstrap(values, r0, 0.99, fn)\n",
    "print(\"Bootstrap of Standard deviation 99%: [{}, {}]\".format(start, end))"
   ]
  },
  {
   "cell_type": "code",
   "execution_count": 869,
   "metadata": {},
   "outputs": [
    {
     "name": "stdout",
     "output_type": "stream",
     "text": [
      "Confidence interval for mean with gamma 95%: [3.7259434054103022, 4.442251757801773]\n",
      "Confidence interval for mean with gamma 99%: [3.613380664320214, 4.5548144988918615]\n"
     ]
    }
   ],
   "source": [
    "m_s_95, m_e_95 = mean_interval(values, 0.95)\n",
    "print(\"Confidence interval for mean with gamma 95%: [{}, {}]\".format(m_s_95, m_e_95))\n",
    "\n",
    "m_s_99, m_e_99 = mean_interval(values, 0.99)\n",
    "print(\"Confidence interval for mean with gamma 99%: [{}, {}]\".format(m_s_99, m_e_99))"
   ]
  },
  {
   "cell_type": "code",
   "execution_count": 870,
   "metadata": {},
   "outputs": [
    {
     "data": {
      "image/png": "[encoded data removed]",
      "text/plain": [
       "<Figure size 432x288 with 1 Axes>"
      ]
     },
     "metadata": {
      "needs_background": "light"
     },
     "output_type": "display_data"
    }
   ],
   "source": [
    "%matplotlib inline\n",
    "import matplotlib.pyplot as plt \n",
    "\n",
    "b_m_y = [b_m_s_95, b_m_e_95]\n",
    "b_m_x = [1, 1]\n",
    "plt.plot(b_m_x, b_m_y, label='CI - Bootstrap mean 95%')\n",
    "\n",
    "m_y = [m_s_95, m_e_95]\n",
    "m_x = [1.1, 1.1]\n",
    "plt.plot(m_x, m_y, label='CI - Asymptotic mean 95%')\n",
    "\n",
    "\n",
    "b_m_y = [b_m_s_99, b_m_e_99]\n",
    "b_m_x = [1.5, 1.5]\n",
    "plt.plot(b_m_x, b_m_y, label='CI - Bootstrap mean 99%')\n",
    "\n",
    "m_y = [m_s_99, m_e_99]\n",
    "m_x = [1.6, 1.6]\n",
    "plt.plot(m_x, m_y, label='CI - Asymptotic mean 99%')\n",
    "\n",
    "\n",
    "plt.ylim(3, 5)\n",
    "plt.xlim(0.5, 2)\n",
    "plt.legend()\n",
    "plt.title('CI Bootstrap mean vs mean') \n",
    "\n",
    "plt.show() "
   ]
  },
  {
   "cell_type": "markdown",
   "metadata": {},
   "source": [
    "## Exercise 4"
   ]
  },
  {
   "cell_type": "markdown",
   "metadata": {},
   "source": [
    "### Problem statement"
   ]
  },
  {
   "cell_type": "markdown",
   "metadata": {},
   "source": [
    "Load the data from the CSV file `data_ex4.csv`.\n",
    "\n",
    "1. Give a 95% and a 99% confidence interval for the mean using the bootstrap method.\n",
    "2. Compare the results against the value obtained from the asymptotic formulas. Explain.\n",
    "3. Transform the data using a log transformation and give the a confidence interval for the transformed mean."
   ]
  },
  {
   "cell_type": "markdown",
   "metadata": {},
   "source": [
    "### Solution"
   ]
  },
  {
   "cell_type": "code",
   "execution_count": 871,
   "metadata": {},
   "outputs": [],
   "source": [
    "def load():\n",
    "    file = open(\"data_ex4.csv\", \"r\")\n",
    "    values = [float(x) for x in file.readlines()]\n",
    "    return values"
   ]
  },
  {
   "cell_type": "code",
   "execution_count": 872,
   "metadata": {},
   "outputs": [
    {
     "name": "stdout",
     "output_type": "stream",
     "text": [
      "Number of values: 500\n"
     ]
    }
   ],
   "source": [
    "values = load()\n",
    "print(\"Number of values:\", len(values))"
   ]
  },
  {
   "cell_type": "code",
   "execution_count": 873,
   "metadata": {},
   "outputs": [
    {
     "name": "stdout",
     "output_type": "stream",
     "text": [
      "Mean: 4193.326330220401\n"
     ]
    }
   ],
   "source": [
    "m = compute_mean(values)\n",
    "print(\"Mean:\", m)"
   ]
  },
  {
   "cell_type": "code",
   "execution_count": 874,
   "metadata": {},
   "outputs": [
    {
     "name": "stdout",
     "output_type": "stream",
     "text": [
      "Standard deviation: 84564.22566364624\n"
     ]
    }
   ],
   "source": [
    "s = compute_std_dev(values)\n",
    "print(\"Standard deviation:\", s)"
   ]
  },
  {
   "cell_type": "code",
   "execution_count": 875,
   "metadata": {},
   "outputs": [],
   "source": [
    "r0 = 25"
   ]
  },
  {
   "cell_type": "code",
   "execution_count": 876,
   "metadata": {},
   "outputs": [
    {
     "name": "stdout",
     "output_type": "stream",
     "text": [
      "Bootstrap of Mean 95%: [95.34739152839184, 11961.479120419763]\n",
      "Bootstrap of Mean 99%: [56.694373745817, 18985.093711463196]\n"
     ]
    }
   ],
   "source": [
    "fn = lambda a: compute_mean(a)\n",
    "\n",
    "start, end = bootstrap(values, r0, 0.95, fn)\n",
    "print(\"Bootstrap of Mean 95%: [{}, {}]\".format(start, end))\n",
    "\n",
    "start, end = bootstrap(values, r0, 0.99, fn)\n",
    "print(\"Bootstrap of Mean 99%: [{}, {}]\".format(start, end))"
   ]
  },
  {
   "cell_type": "code",
   "execution_count": 877,
   "metadata": {},
   "outputs": [
    {
     "name": "stdout",
     "output_type": "stream",
     "text": [
      "Confidence interval for mean with gamma 95%: [-3219.0548660825725, 11605.707526523376]\n",
      "Confidence interval for mean with gamma 99%: [-5548.660384920649, 13935.313045361452]\n"
     ]
    }
   ],
   "source": [
    "start, end = mean_interval(values, 0.95)\n",
    "print(\"Confidence interval for mean with gamma 95%: [{}, {}]\".format(start, end))\n",
    "\n",
    "start, end = mean_interval(values, 0.99)\n",
    "print(\"Confidence interval for mean with gamma 99%: [{}, {}]\".format(start, end))"
   ]
  },
  {
   "cell_type": "code",
   "execution_count": 878,
   "metadata": {},
   "outputs": [],
   "source": [
    "from math import log, exp\n",
    "\n",
    "log_values = [log(x) for x in values]\n",
    "\n",
    "log_mean = compute_mean(log_values)\n",
    "log_std = compute_std_dev(log_values)"
   ]
  },
  {
   "cell_type": "code",
   "execution_count": 879,
   "metadata": {},
   "outputs": [
    {
     "name": "stdout",
     "output_type": "stream",
     "text": [
      "Transformation mean: 2.272258276241015\n"
     ]
    }
   ],
   "source": [
    "trans_mean = exp(log_mean)\n",
    "print(\"Transformation mean:\", trans_mean)"
   ]
  },
  {
   "cell_type": "code",
   "execution_count": 880,
   "metadata": {},
   "outputs": [
    {
     "name": "stdout",
     "output_type": "stream",
     "text": [
      "Transformation standard deviation: 13.497052033074423\n"
     ]
    }
   ],
   "source": [
    "trans_std = exp(log_std)\n",
    "print(\"Transformation standard deviation:\", trans_std)"
   ]
  },
  {
   "cell_type": "code",
   "execution_count": 881,
   "metadata": {},
   "outputs": [
    {
     "name": "stdout",
     "output_type": "stream",
     "text": [
      "Confidence interval for transformation mean with gamma 95%: [1.8087889005696096, 2.85448328012177]\n",
      "Confidence interval for transformation mean with gamma 99%: [1.6836493944528799, 3.0666465898166484]\n"
     ]
    }
   ],
   "source": [
    "start, end = mean_interval(log_values, 0.95)\n",
    "start, end = exp(start), exp(end)\n",
    "print(\"Confidence interval for transformation mean with gamma 95%: [{}, {}]\".format(start, end))\n",
    "\n",
    "start, end = mean_interval(log_values, 0.99)\n",
    "start, end = exp(start), exp(end)\n",
    "print(\"Confidence interval for transformation mean with gamma 99%: [{}, {}]\".format(start, end))"
   ]
  },
  {
   "cell_type": "code",
   "execution_count": 882,
   "metadata": {},
   "outputs": [
    {
     "data": {
      "image/png": "[encoded data removed]",
      "text/plain": [
       "<Figure size 432x288 with 1 Axes>"
      ]
     },
     "metadata": {
      "needs_background": "light"
     },
     "output_type": "display_data"
    }
   ],
   "source": [
    "%matplotlib inline\n",
    "import matplotlib.pyplot as plt \n",
    "\n",
    "plt.hist(values, bins=50, color = 'blue', edgecolor = 'black')\n",
    "plt.title('Sample data distibution') \n",
    "plt.show() "
   ]
  },
  {
   "cell_type": "code",
   "execution_count": 883,
   "metadata": {},
   "outputs": [
    {
     "data": {
      "image/png": "[encoded data removed]",
      "text/plain": [
       "<Figure size 432x288 with 1 Axes>"
      ]
     },
     "metadata": {
      "needs_background": "light"
     },
     "output_type": "display_data"
    }
   ],
   "source": [
    "%matplotlib inline\n",
    "import matplotlib.pyplot as plt \n",
    "\n",
    "plt.hist(log_values, bins=50, color = 'red', edgecolor = 'black')\n",
    "plt.title('Log-transformed data distribution') \n",
    "plt.show() "
   ]
  },
  {
   "cell_type": "markdown",
   "metadata": {},
   "source": [
    "## Exercise 5"
   ]
  },
  {
   "cell_type": "markdown",
   "metadata": {},
   "source": [
    "### Problem statement"
   ]
  },
  {
   "cell_type": "markdown",
   "metadata": {},
   "source": [
    "Load the data from the CSV file `data_ex5.csv`. Note that this data represents successes (ones) and insuccesses (zeros) of some experiment.\n",
    "\n",
    "1. Find the probability of success and confidence intervals for it at both a 95% and at a 99% level.\n",
    "2. Consider now only the first 15 data points.  Find a confidence interval for the probability of success. Explain."
   ]
  },
  {
   "cell_type": "markdown",
   "metadata": {},
   "source": [
    "### Solution"
   ]
  },
  {
   "cell_type": "markdown",
   "metadata": {},
   "source": [
    "Firstly, we need to load the data from `data_ex5.csv`."
   ]
  },
  {
   "cell_type": "code",
   "execution_count": 884,
   "metadata": {},
   "outputs": [],
   "source": [
    "def load():\n",
    "    file = open(\"data_ex5.csv\", \"r\")\n",
    "    values = [int(x) for x in file.readlines()[0].split(',')]\n",
    "    return values"
   ]
  },
  {
   "cell_type": "code",
   "execution_count": 885,
   "metadata": {},
   "outputs": [
    {
     "name": "stdout",
     "output_type": "stream",
     "text": [
      "Length of the sequence: 1000\n"
     ]
    }
   ],
   "source": [
    "samples = load()\n",
    "print(\"Length of the sequence:\", len(samples))"
   ]
  },
  {
   "cell_type": "markdown",
   "metadata": {},
   "source": [
    "The dataset is made up of a sequence of zeroes and ones, which is the representation of the outcomes of a repeated experiment. A zero represents a failure, a one represents a success."
   ]
  },
  {
   "cell_type": "code",
   "execution_count": 886,
   "metadata": {},
   "outputs": [],
   "source": [
    "succ = samples.count(1)\n",
    "insucc = samples.count(0)"
   ]
  },
  {
   "cell_type": "code",
   "execution_count": 887,
   "metadata": {},
   "outputs": [
    {
     "name": "stdout",
     "output_type": "stream",
     "text": [
      "Number of successes: 125\n",
      "Number of insuccesses: 875\n"
     ]
    }
   ],
   "source": [
    "print(\"Number of successes: {}\".format(succ))\n",
    "print(\"Number of insuccesses: {}\".format(insucc))"
   ]
  },
  {
   "cell_type": "code",
   "execution_count": 888,
   "metadata": {},
   "outputs": [
    {
     "data": {
      "image/png": "[encoded data removed]",
      "text/plain": [
       "<Figure size 432x288 with 1 Axes>"
      ]
     },
     "metadata": {
      "needs_background": "light"
     },
     "output_type": "display_data"
    }
   ],
   "source": [
    "%matplotlib inline\n",
    "import matplotlib.pyplot as plt \n",
    "\n",
    "plt.hist(samples, bins=2, color = 'blue', edgecolor = 'black')\n",
    "plt.xticks(range(2))\n",
    "plt.title('Histogram successes and insucceses') \n",
    "plt.show() "
   ]
  },
  {
   "cell_type": "markdown",
   "metadata": {},
   "source": [
    "The given sequence is a Bernoulli process: every experiment is a Bernoulli trial with probability of success $p$. We assume the data is iid, so each experiment is independent from the others and all the experiments have the same Bernoulli distribution.\n",
    "\n",
    "We want to estimate the parameters of the distribution of our interest. In this case we have a Bernoulli distribution, which depends only from one parameter: the probability of success $p$. The parameter $p$ is unknown but we have some observed data. We can rely on Maximum Likelihood Estimation and select the estimator $\\hat{p}$ that makes the observed data the most likely. In this case, it is well-known that (by MLE) $\\hat{p}$ = $\\frac{\\sum_{i=1}^{n} X_i}{n}$, where $n$ is the length of the observed sequence of data and $X_i$ is the realization of the random variable associated with the experiment $i$."
   ]
  },
  {
   "cell_type": "code",
   "execution_count": 889,
   "metadata": {},
   "outputs": [
    {
     "name": "stdout",
     "output_type": "stream",
     "text": [
      "Estimation of the probability of success p: 0.125\n"
     ]
    }
   ],
   "source": [
    "p = succ / (succ + insucc)\n",
    "print(\"Estimation of the probability of success p:\", p)"
   ]
  },
  {
   "cell_type": "markdown",
   "metadata": {},
   "source": [
    "For example, now we can also estimate the variance $\\hat{\\sigma}^2 = \\hat{p}(1-\\hat{p})$."
   ]
  },
  {
   "cell_type": "code",
   "execution_count": 890,
   "metadata": {},
   "outputs": [
    {
     "name": "stdout",
     "output_type": "stream",
     "text": [
      "Estimation of the variance:  0.109375\n"
     ]
    }
   ],
   "source": [
    "var = p * (1 - p)\n",
    "print(\"Estimation of the variance: \", var)"
   ]
  },
  {
   "cell_type": "markdown",
   "metadata": {},
   "source": [
    "We are asked to compute the confidence intervals for the probability of success $p$ at both a 95% and at a 99% level. We resort to the `mean_interval` function, introduced in Exercise 1."
   ]
  },
  {
   "cell_type": "code",
   "execution_count": 891,
   "metadata": {},
   "outputs": [
    {
     "name": "stdout",
     "output_type": "stream",
     "text": [
      "95% confidence interval for p: [0.10450182934991514, 0.14549817065008486]\n",
      "99% confidence interval for p: [0.09805954714560276, 0.15194045285439722]\n"
     ]
    }
   ],
   "source": [
    "start, end = mean_interval(samples, 0.95)\n",
    "print(\"95% confidence interval for p: [{}, {}]\".format(start, end))\n",
    "\n",
    "start, end = mean_interval(samples, 0.99)\n",
    "print(\"99% confidence interval for p: [{}, {}]\".format(start, end))"
   ]
  },
  {
   "cell_type": "markdown",
   "metadata": {},
   "source": [
    "For the next step of the exercise, we are asked to consider only the first 15 data points."
   ]
  },
  {
   "cell_type": "code",
   "execution_count": 892,
   "metadata": {},
   "outputs": [],
   "source": [
    "first_15_samples = samples[:15]"
   ]
  },
  {
   "cell_type": "code",
   "execution_count": 893,
   "metadata": {},
   "outputs": [
    {
     "name": "stdout",
     "output_type": "stream",
     "text": [
      "[0, 0, 0, 0, 0, 0, 0, 0, 0, 0, 0, 0, 0, 0, 0]\n"
     ]
    }
   ],
   "source": [
    "print(first_15_samples)"
   ]
  },
  {
   "cell_type": "code",
   "execution_count": 894,
   "metadata": {},
   "outputs": [
    {
     "name": "stdout",
     "output_type": "stream",
     "text": [
      "Number of successes: 0\n",
      "Number of insuccesses: 15\n"
     ]
    }
   ],
   "source": [
    "succ = first_15_samples.count(1)\n",
    "insucc = first_15_samples.count(0)\n",
    "print(\"Number of successes: {}\".format(succ))\n",
    "print(\"Number of insuccesses: {}\".format(insucc))"
   ]
  },
  {
   "cell_type": "markdown",
   "metadata": {},
   "source": [
    "We can repeat again the process of estimating the value of the parameter $p$, but this time considering only this extremely small subset of the original data."
   ]
  },
  {
   "cell_type": "code",
   "execution_count": 895,
   "metadata": {},
   "outputs": [
    {
     "name": "stdout",
     "output_type": "stream",
     "text": [
      "Estimation of the probability of success: 0.0\n"
     ]
    }
   ],
   "source": [
    "p = succ / (succ + insucc)\n",
    "print(\"Estimation of the probability of success:\", p)"
   ]
  },
  {
   "cell_type": "markdown",
   "metadata": {},
   "source": [
    "It is trivial to notice that with less samples we get a less precise estimation of $p$. \n",
    "\n",
    "In particular, in this case, the first 15 observations happen to be only failures. To estimate a confidence interval we need to rely on the Rule of three. \n",
    "\n",
    "The Rule of three states that if a certain event did not occur in a sample with $n$ outcomes, the interval $[0,\\frac{3}{n}]$ is a 95% confidence interval for the rate of occurrences in the population."
   ]
  },
  {
   "cell_type": "code",
   "execution_count": 896,
   "metadata": {},
   "outputs": [
    {
     "name": "stdout",
     "output_type": "stream",
     "text": [
      "95% confidence interval for p with the Rule of three: [0, 0.2]\n"
     ]
    }
   ],
   "source": [
    "print(\"95% confidence interval for p with the Rule of three: [{}, {}]\".format(0, 3 / len(first_15_samples)))"
   ]
  }
 ],
 "metadata": {
  "colab": {
   "name": "Untitled2.ipynb",
   "provenance": []
  },
  "kernelspec": {
   "display_name": "Python 3",
   "language": "python",
   "name": "python3"
  },
  "language_info": {
   "codemirror_mode": {
    "name": "ipython",
    "version": 3
   },
   "file_extension": ".py",
   "mimetype": "text/x-python",
   "name": "python",
   "nbconvert_exporter": "python",
   "pygments_lexer": "ipython3",
   "version": "3.8.2"
  }
 },
 "nbformat": 4,
 "nbformat_minor": 1
}
