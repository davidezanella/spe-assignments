{
 "cells": [
  {
   "cell_type": "code",
   "execution_count": 37,
   "metadata": {},
   "outputs": [],
   "source": [
    "class State:\n",
    "    def __init__(self, transition):\n",
    "        self.counter = 0\n",
    "        self.set_transition(transition)\n",
    "    \n",
    "    def get_counter(self):\n",
    "        return self.counter\n",
    "    \n",
    "    def visit(self):\n",
    "        self.counter += 1\n",
    "    \n",
    "    def set_transition(self, transition):\n",
    "        self.adj = transition\n",
    "        self.cdf = [transition[0]]\n",
    "        for i in range(1, len(transition)):\n",
    "            self.cdf.append(self.cdf[-1] + transition[i])\n",
    "        \n",
    "    def get_next(self):\n",
    "        import random\n",
    "        u = random.random()\n",
    "        for i in range(len(self.cdf)):\n",
    "            if u < self.cdf[i]:\n",
    "                return i + 1"
   ]
  },
  {
   "cell_type": "code",
   "execution_count": 163,
   "metadata": {},
   "outputs": [],
   "source": [
    "import random\n",
    "\n",
    "def run(N_iter):\n",
    "    results = {}\n",
    "    results[1] = []\n",
    "    results[2] = []\n",
    "    results[3] = []\n",
    "    results[4] = []\n",
    "    \n",
    "    s2t = {1:1.25, 2:1, 3:0.250, 4: 0.05}\n",
    "    \n",
    "    thr = []\n",
    "    \n",
    "    states = {}\n",
    "    states[1] = State([0.75, 0.25, 0, 0])\n",
    "    states[2] = State([0.25, 0.50, 0.25, 0])\n",
    "    states[3] = State([0, 0.40, 0.40, 0.20])\n",
    "    states[4] = State([0, 0, 0.25, 0.75])\n",
    "    \n",
    "    state_id = random.randint(1, 4)\n",
    "    for i in range(1, N_iter):\n",
    "        states[state_id].visit()\n",
    "        state_id = states[state_id].get_next()\n",
    "        \n",
    "        if i % 100 == 0:\n",
    "            for j in range(1, 5):\n",
    "                results[j].append(states[j].get_counter() / i)\n",
    "            thr.append(s2t[state_id])\n",
    "    \n",
    "    print(\"Empirical stationary probability distribution\")\n",
    "    for i in range(1, 5):\n",
    "        print(\"State {}: {}\".format(i, states[i].get_counter() / N_iter))\n",
    "    \n",
    "    return results, thr"
   ]
  },
  {
   "cell_type": "code",
   "execution_count": 164,
   "metadata": {},
   "outputs": [
    {
     "name": "stdout",
     "output_type": "stream",
     "text": [
      "Empirical stationary probability distribution\n",
      "State 1: 0.319619\n",
      "State 2: 0.319497\n",
      "State 3: 0.200929\n",
      "State 4: 0.159954\n"
     ]
    }
   ],
   "source": [
    "results, thr = run(1000000)"
   ]
  },
  {
   "cell_type": "code",
   "execution_count": 165,
   "metadata": {},
   "outputs": [
    {
     "data": {
      "image/png": "[encoded data removed]",
      "text/plain": [
       "<Figure size 432x288 with 1 Axes>"
      ]
     },
     "metadata": {
      "needs_background": "light"
     },
     "output_type": "display_data"
    }
   ],
   "source": [
    "%matplotlib inline\n",
    "import matplotlib.pyplot as plt\n",
    "import numpy as np\n",
    "\n",
    "fig = plt.figure()\n",
    "ax = plt.subplot(111)\n",
    "ax.plot(range(len(results[1])), results[1], label=\"State 1\")\n",
    "ax.plot(range(len(results[1])), [0.32 for _ in range(len(results[1]))], 'b--')\n",
    "ax.plot(range(len(results[2])), results[2], label=\"State 2\")\n",
    "ax.plot(range(len(results[3])), results[3], label=\"State 3\")\n",
    "ax.plot(range(len(results[1])), [0.20 for _ in range(len(results[1]))], 'b--')\n",
    "ax.plot(range(len(results[4])), results[4], label=\"State 4\")\n",
    "ax.plot(range(len(results[1])), [0.16 for _ in range(len(results[1]))], 'b--')\n",
    "ax.legend()\n",
    "plt.xlabel(\"Iterations (x100)\")\n",
    "plt.ylabel(\"Empirical stationary p. d.\")\n",
    "plt.show()"
   ]
  },
  {
   "cell_type": "code",
   "execution_count": 202,
   "metadata": {},
   "outputs": [],
   "source": [
    "from math import sqrt\n",
    "\n",
    "def compute_mean(values):\n",
    "    tot = 0\n",
    "    for i in values:\n",
    "        tot += i\n",
    "    return tot / len(values)\n",
    "\n",
    "def compute_std_dev(values):\n",
    "    mean = compute_mean(values)\n",
    "    tot = 0\n",
    "    for i in values:\n",
    "        tot += (i - mean) ** 2\n",
    "    return sqrt(tot / len(values))\n",
    "\n",
    "def mean_interval(data, gamma):\n",
    "    eta = None\n",
    "    if gamma == 0.95:\n",
    "        eta = 1.960\n",
    "    elif gamma == 0.99:\n",
    "        eta = 2.576\n",
    "    else:\n",
    "        # in these excercises we are only interested in 95% and 99% confidence\n",
    "        pass\n",
    "    mean = compute_mean(data)\n",
    "    std_dev = compute_std_dev(data)\n",
    "    incr = eta * std_dev / sqrt(len(data))\n",
    "    return mean - incr, mean + incr"
   ]
  },
  {
   "cell_type": "code",
   "execution_count": 203,
   "metadata": {},
   "outputs": [
    {
     "name": "stdout",
     "output_type": "stream",
     "text": [
      "Average throughput: 0.7751225122512448\n",
      "C.I. 95% [0.7657664528607361, 0.7844785716417536]\n"
     ]
    }
   ],
   "source": [
    "print(\"Average throughput: {}\".format(compute_mean(thr)))\n",
    "print(\"C.I. 95% [{}, {}]\".format(mean_interval(thr, 0.95)[0], mean_interval(thr, 0.95)[1]))"
   ]
  },
  {
   "cell_type": "code",
   "execution_count": 204,
   "metadata": {},
   "outputs": [],
   "source": [
    "a_thr = []\n",
    "l_thr = []\n",
    "h_thr = []\n",
    "\n",
    "for i in range(len(thr)):\n",
    "    values = thr[:i+1]\n",
    "    a_thr.append(compute_mean(values))\n",
    "    l, h = mean_interval(values, 0.95)\n",
    "    l_thr.append(l)\n",
    "    h_thr.append(h)"
   ]
  },
  {
   "cell_type": "code",
   "execution_count": 206,
   "metadata": {},
   "outputs": [
    {
     "data": {
      "image/png": "[encoded data removed]",
      "text/plain": [
       "<Figure size 432x288 with 1 Axes>"
      ]
     },
     "metadata": {
      "needs_background": "light"
     },
     "output_type": "display_data"
    }
   ],
   "source": [
    "%matplotlib inline\n",
    "import matplotlib.pyplot as plt\n",
    "import numpy as np\n",
    "\n",
    "fig = plt.figure()\n",
    "ax = plt.subplot(111)\n",
    "ax.plot(range(len(a_thr)), a_thr, label=\"Empirical throughput\")\n",
    "ax.fill_between(range(len(a_thr)), l_thr, h_thr, color='b', alpha=.1, label=\"CI 95% avg throughput\")\n",
    "ax.plot(range(len(a_thr)), [0.32 * 1.5 + 0.32 * 1 + 0.20 * 0.250 + 0.16 * 0.050 for _ in range(len(a_thr))], 'b--', label=\"Theoretical throughput\")\n",
    "ax.legend()\n",
    "plt.xlabel(\"Iterations\")\n",
    "plt.ylabel(\"Throughput\")\n",
    "plt.show()"
   ]
  },
  {
   "cell_type": "code",
   "execution_count": null,
   "metadata": {},
   "outputs": [],
   "source": []
  }
 ],
 "metadata": {
  "kernelspec": {
   "display_name": "Python 3",
   "language": "python",
   "name": "python3"
  },
  "language_info": {
   "codemirror_mode": {
    "name": "ipython",
    "version": 3
   },
   "file_extension": ".py",
   "mimetype": "text/x-python",
   "name": "python",
   "nbconvert_exporter": "python",
   "pygments_lexer": "ipython3",
   "version": "3.7.6"
  }
 },
 "nbformat": 4,
 "nbformat_minor": 2
}
