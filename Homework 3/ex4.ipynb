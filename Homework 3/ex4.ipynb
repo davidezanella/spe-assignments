{
 "cells": [
  {
   "cell_type": "code",
   "execution_count": 11,
   "metadata": {},
   "outputs": [],
   "source": [
    "import random, math"
   ]
  },
  {
   "cell_type": "code",
   "execution_count": 12,
   "metadata": {},
   "outputs": [],
   "source": [
    "def gen_i():\n",
    "    return (random.uniform(0, 20), random.uniform(0, 60))\n",
    "\n",
    "def gen_j():\n",
    "    return (random.uniform(60, 80), random.uniform(0, 60))\n",
    "\n",
    "def gen_p():\n",
    "    def cdf_inv(x, a):\n",
    "        return - math.log(1 - x) / a\n",
    "    y = random.random()\n",
    "    return cdf_inv(y, 1)\n",
    "\n",
    "def d(a, b):\n",
    "    return math.sqrt((a[0] - b[0])**2 + (a[1] - b[1])**2)\n",
    "\n",
    "def snr(p, a, b):\n",
    "    k = 2\n",
    "    P_T = 5\n",
    "    P_N = 3.2 * 10**(-5)\n",
    "    return p * P_T * (d(a,b)**(-k)) / P_N"
   ]
  },
  {
   "cell_type": "code",
   "execution_count": 16,
   "metadata": {},
   "outputs": [
    {
     "data": {
      "text/plain": [
       "14.37972180223989"
      ]
     },
     "execution_count": 16,
     "metadata": {},
     "output_type": "execute_result"
    }
   ],
   "source": [
    "snr(gen_p(), gen_i(), gen_j())"
   ]
  },
  {
   "cell_type": "code",
   "execution_count": 22,
   "metadata": {},
   "outputs": [],
   "source": [
    "def compute_prob(alpha, lim1, lim2):\n",
    "    tot = 0\n",
    "    ok = 0\n",
    "\n",
    "    for iter_ij in range(lim1):\n",
    "        i = gen_i()\n",
    "        j = gen_j()\n",
    "        for iter_p in range(lim2):\n",
    "            p = gen_p()\n",
    "            if snr(p, i, j) < alpha:\n",
    "                ok += 1\n",
    "            tot += 1\n",
    "    return ok / tot"
   ]
  },
  {
   "cell_type": "code",
   "execution_count": 23,
   "metadata": {},
   "outputs": [],
   "source": [
    "x = []\n",
    "y = []\n",
    "for i in range(1, 321):\n",
    "    x.append(i)\n",
    "    y.append(compute_prob(i, 1000, 50))"
   ]
  },
  {
   "cell_type": "code",
   "execution_count": 25,
   "metadata": {},
   "outputs": [
    {
     "data": {
      "image/png": "[encoded data removed]",
      "text/plain": [
       "<Figure size 720x360 with 1 Axes>"
      ]
     },
     "metadata": {
      "needs_background": "light"
     },
     "output_type": "display_data"
    }
   ],
   "source": [
    "%matplotlib inline\n",
    "import matplotlib.pyplot as plt\n",
    "\n",
    "fig = plt.figure(figsize=(10, 5))\n",
    "plt.plot(x, y)\n",
    "plt.show()"
   ]
  },
  {
   "cell_type": "code",
   "execution_count": null,
   "metadata": {},
   "outputs": [],
   "source": []
  }
 ],
 "metadata": {
  "kernelspec": {
   "display_name": "Python 3",
   "language": "python",
   "name": "python3"
  },
  "language_info": {
   "codemirror_mode": {
    "name": "ipython",
    "version": 3
   },
   "file_extension": ".py",
   "mimetype": "text/x-python",
   "name": "python",
   "nbconvert_exporter": "python",
   "pygments_lexer": "ipython3",
   "version": "3.7.6"
  }
 },
 "nbformat": 4,
 "nbformat_minor": 2
}
